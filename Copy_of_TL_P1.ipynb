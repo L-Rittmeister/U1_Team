{
 "nbformat": 4,
 "nbformat_minor": 0,
 "metadata": {
  "colab": {
   "provenance": [],
   "collapsed_sections": []
  },
  "kernelspec": {
   "name": "python3",
   "language": "python",
   "display_name": "Python 3 (ipykernel)"
  },
  "language_info": {
   "name": "python"
  },
  "accelerator": "GPU",
  "gpuClass": "standard"
 },
 "cells": [
  {
   "cell_type": "markdown",
   "source": [
    "# **Práctica #1: Modelo para predicción de lluvia**\n",
    "\n",
    "*Centro Universitario de Ciencias Exactas e Ingenierías*\n",
    "\n",
    "*División de Tecnologías para la Integración Ciber-Humana*\n",
    "\n",
    "*Ingeniería Biomédica*\n",
    "\n",
    "<br>\n",
    "\n",
    "*Mtra. Sofía Alejandra Aguilar Valdez*\n",
    "\n",
    "2 de septiembre de 2022"
   ],
   "metadata": {
    "id": "nVx-kou4pjFk",
    "pycharm": {
     "name": "#%% md\n"
    }
   }
  },
  {
   "cell_type": "markdown",
   "source": [
    "## **Información del equipo**\n",
    "\n",
    "```NOMBRES:``` \\\\\n",
    "Victor Alvarado Aparicio \\\\\n",
    "Dayana Analy Pacheco Bañuelos \\\\\n",
    "Leonardo Juàrez Zucco\n",
    "\n",
    "```CÓDIGOS:``` \\\\\n",
    "215767685 \\\\\n",
    "######### \\\\\n",
    "220285869\n",
    "\n",
    "```LINK REPOSITORIO:``` https://github.com/L-Rittmeister/U1_Team.git\n",
    "\n"
   ],
   "metadata": {
    "id": "dQNzG9Wm4ZQJ",
    "pycharm": {
     "name": "#%% md\n"
    }
   }
  },
  {
   "cell_type": "markdown",
   "source": [
    "## **Contenido**\n",
    "\n",
    "\n",
    "\n",
    "1.   Resumen\n",
    "2.   Marco teórico\n",
    "3.   Objetivos\n",
    "4.   Materiales y métodos\n",
    "5.   Resultados\n",
    "6.   Discusión\n",
    "7.   Conclusiones\n",
    "8.   Referencias\n",
    "\n"
   ],
   "metadata": {
    "id": "QQ_tQMMJpude",
    "pycharm": {
     "name": "#%% md\n"
    }
   }
  },
  {
   "cell_type": "markdown",
   "source": [
    "# **1. Resumen**\n",
    "(100-300 palabras)"
   ],
   "metadata": {
    "id": "anvzyOk06GH5",
    "pycharm": {
     "name": "#%% md\n"
    }
   }
  },
  {
   "cell_type": "markdown",
   "source": [
    "# **2. Marco teórico**\n",
    "(300-800 palabras)"
   ],
   "metadata": {
    "id": "E8r4C9H26UTK",
    "pycharm": {
     "name": "#%% md\n"
    }
   }
  },
  {
   "cell_type": "markdown",
   "source": [
    "# **3. Objetivos**\n",
    "Objetivo general y objetivos específicos"
   ],
   "metadata": {
    "id": "Tcx3QvQN6hWe",
    "pycharm": {
     "name": "#%% md\n"
    }
   }
  },
  {
   "cell_type": "markdown",
   "source": [
    "# **4. Materiales y métodos**\n",
    "\n",
    "## *Materiales*\n",
    "\n",
    "Describir este conjunto de datos [[1]](https://www.kaggle.com/code/fatmakursun/rain-forecasting-with-artificial-neural-network/data).\n",
    "\n",
    "## *Métodos*\n",
    "\n",
    "1. Esquema de metodología\n",
    "2. Descripción de los métodos y su implementación en código en forma de narrativa."
   ],
   "metadata": {
    "id": "4rX1w4ZD6mPj",
    "pycharm": {
     "name": "#%% md\n"
    }
   }
  },
  {
   "cell_type": "code",
   "source": [
    "#Mounting drive storage to access data (if needed/running on collab then uncomment)\n",
    "# Mount Google Drive\n",
    "#from google.colab import drive\n",
    "#drive.mount('/content/drive')"
   ],
   "metadata": {
    "colab": {
     "base_uri": "https://localhost:8080/"
    },
    "id": "Q4vifyfcnWi8",
    "outputId": "efaa1931-50e4-43e0-bd3e-8753f70d9868",
    "pycharm": {
     "name": "#%%\n"
    }
   },
   "execution_count": 74,
   "outputs": []
  },
  {
   "cell_type": "code",
   "source": [
    "# Import Libraries\n",
    "import pandas as pd\n",
    "import numpy as np\n",
    "from numpy import sqrt\n",
    "from numpy import vstack\n",
    "import matplotlib.pyplot as plt\n",
    "import seaborn as sns\n",
    "import random\n",
    "from sklearn.preprocessing import StandardScaler\n",
    "from sklearn.metrics import accuracy_score, mean_squared_error, confusion_matrix, classification_report\n",
    "from sklearn.metrics import roc_curve\n",
    "from tqdm.notebook import trange, tqdm\n",
    "import time\n",
    "import torch\n",
    "from torch import nn\n",
    "from torch.nn.functional import normalize\n",
    "from torchvision import datasets, transforms\n",
    "import torch.utils.data as data\n",
    "from torch.utils.data import Dataset\n",
    "import torch.nn.functional as F\n",
    "from torch import optim\n",
    "from torch.optim import SGD\n",
    "from torchvision import datasets, transforms\n",
    "from torch.utils.data import random_split, DataLoader\n",
    "from torch.nn.modules.activation import ReLU\n",
    "from torch.nn.init import kaiming_uniform_\n",
    "from torch.nn.init import xavier_uniform_"
   ],
   "metadata": {
    "id": "_0Fnd_SX-hHi",
    "pycharm": {
     "name": "#%%\n"
    }
   },
   "execution_count": 75,
   "outputs": []
  },
  {
   "cell_type": "code",
   "source": [
    "#Pytorch and CUDA installation test\n",
    "torch.randn(5).cuda()"
   ],
   "metadata": {
    "colab": {
     "base_uri": "https://localhost:8080/"
    },
    "id": "qHX258IhurIP",
    "outputId": "eba9a781-6c0f-4301-9924-4d2c36c53af4",
    "pycharm": {
     "name": "#%%\n"
    }
   },
   "execution_count": 76,
   "outputs": [
    {
     "data": {
      "text/plain": "tensor([-0.6030,  1.2772, -2.3043,  0.6307, -0.3543], device='cuda:0')"
     },
     "execution_count": 76,
     "metadata": {},
     "output_type": "execute_result"
    }
   ]
  },
  {
   "cell_type": "code",
   "execution_count": 77,
   "outputs": [
    {
     "data": {
      "text/plain": "             DATE  PRCP  TMAX  TMIN   RAIN\n0      1948-01-01  0.47    51    42   True\n1      1948-01-02  0.59    45    36   True\n2      1948-01-03  0.42    45    35   True\n3      1948-01-04  0.31    45    34   True\n4      1948-01-05  0.17    45    32   True\n...           ...   ...   ...   ...    ...\n25546  2017-12-10  0.00    49    34  False\n25547  2017-12-11  0.00    49    29  False\n25548  2017-12-12  0.00    46    32  False\n25549  2017-12-13  0.00    48    34  False\n25550  2017-12-14  0.00    50    36  False\n\n[25551 rows x 5 columns]",
      "text/html": "<div>\n<style scoped>\n    .dataframe tbody tr th:only-of-type {\n        vertical-align: middle;\n    }\n\n    .dataframe tbody tr th {\n        vertical-align: top;\n    }\n\n    .dataframe thead th {\n        text-align: right;\n    }\n</style>\n<table border=\"1\" class=\"dataframe\">\n  <thead>\n    <tr style=\"text-align: right;\">\n      <th></th>\n      <th>DATE</th>\n      <th>PRCP</th>\n      <th>TMAX</th>\n      <th>TMIN</th>\n      <th>RAIN</th>\n    </tr>\n  </thead>\n  <tbody>\n    <tr>\n      <th>0</th>\n      <td>1948-01-01</td>\n      <td>0.47</td>\n      <td>51</td>\n      <td>42</td>\n      <td>True</td>\n    </tr>\n    <tr>\n      <th>1</th>\n      <td>1948-01-02</td>\n      <td>0.59</td>\n      <td>45</td>\n      <td>36</td>\n      <td>True</td>\n    </tr>\n    <tr>\n      <th>2</th>\n      <td>1948-01-03</td>\n      <td>0.42</td>\n      <td>45</td>\n      <td>35</td>\n      <td>True</td>\n    </tr>\n    <tr>\n      <th>3</th>\n      <td>1948-01-04</td>\n      <td>0.31</td>\n      <td>45</td>\n      <td>34</td>\n      <td>True</td>\n    </tr>\n    <tr>\n      <th>4</th>\n      <td>1948-01-05</td>\n      <td>0.17</td>\n      <td>45</td>\n      <td>32</td>\n      <td>True</td>\n    </tr>\n    <tr>\n      <th>...</th>\n      <td>...</td>\n      <td>...</td>\n      <td>...</td>\n      <td>...</td>\n      <td>...</td>\n    </tr>\n    <tr>\n      <th>25546</th>\n      <td>2017-12-10</td>\n      <td>0.00</td>\n      <td>49</td>\n      <td>34</td>\n      <td>False</td>\n    </tr>\n    <tr>\n      <th>25547</th>\n      <td>2017-12-11</td>\n      <td>0.00</td>\n      <td>49</td>\n      <td>29</td>\n      <td>False</td>\n    </tr>\n    <tr>\n      <th>25548</th>\n      <td>2017-12-12</td>\n      <td>0.00</td>\n      <td>46</td>\n      <td>32</td>\n      <td>False</td>\n    </tr>\n    <tr>\n      <th>25549</th>\n      <td>2017-12-13</td>\n      <td>0.00</td>\n      <td>48</td>\n      <td>34</td>\n      <td>False</td>\n    </tr>\n    <tr>\n      <th>25550</th>\n      <td>2017-12-14</td>\n      <td>0.00</td>\n      <td>50</td>\n      <td>36</td>\n      <td>False</td>\n    </tr>\n  </tbody>\n</table>\n<p>25551 rows × 5 columns</p>\n</div>"
     },
     "execution_count": 77,
     "metadata": {},
     "output_type": "execute_result"
    }
   ],
   "source": [
    "#Load the dataset on a pandas dataframe\n",
    "Data = pd.read_csv(\"seattleWeather_1948-2017.csv\")\n",
    "Data"
   ],
   "metadata": {
    "collapsed": false,
    "pycharm": {
     "name": "#%%\n"
    }
   }
  },
  {
   "cell_type": "code",
   "execution_count": 78,
   "outputs": [],
   "source": [
    "#Drop NaN value\n",
    "Data.dropna(inplace=True)\n",
    "Data.reset_index(inplace=True, drop=True)"
   ],
   "metadata": {
    "collapsed": false,
    "pycharm": {
     "name": "#%%\n"
    }
   }
  },
  {
   "cell_type": "code",
   "execution_count": 79,
   "outputs": [
    {
     "data": {
      "text/plain": "       PRCP  TMAX  TMIN   RAIN\n0      0.47    51    42   True\n1      0.59    45    36   True\n2      0.42    45    35   True\n3      0.31    45    34   True\n4      0.17    45    32   True\n...     ...   ...   ...    ...\n25543  0.00    49    34  False\n25544  0.00    49    29  False\n25545  0.00    46    32  False\n25546  0.00    48    34  False\n25547  0.00    50    36  False\n\n[25548 rows x 4 columns]",
      "text/html": "<div>\n<style scoped>\n    .dataframe tbody tr th:only-of-type {\n        vertical-align: middle;\n    }\n\n    .dataframe tbody tr th {\n        vertical-align: top;\n    }\n\n    .dataframe thead th {\n        text-align: right;\n    }\n</style>\n<table border=\"1\" class=\"dataframe\">\n  <thead>\n    <tr style=\"text-align: right;\">\n      <th></th>\n      <th>PRCP</th>\n      <th>TMAX</th>\n      <th>TMIN</th>\n      <th>RAIN</th>\n    </tr>\n  </thead>\n  <tbody>\n    <tr>\n      <th>0</th>\n      <td>0.47</td>\n      <td>51</td>\n      <td>42</td>\n      <td>True</td>\n    </tr>\n    <tr>\n      <th>1</th>\n      <td>0.59</td>\n      <td>45</td>\n      <td>36</td>\n      <td>True</td>\n    </tr>\n    <tr>\n      <th>2</th>\n      <td>0.42</td>\n      <td>45</td>\n      <td>35</td>\n      <td>True</td>\n    </tr>\n    <tr>\n      <th>3</th>\n      <td>0.31</td>\n      <td>45</td>\n      <td>34</td>\n      <td>True</td>\n    </tr>\n    <tr>\n      <th>4</th>\n      <td>0.17</td>\n      <td>45</td>\n      <td>32</td>\n      <td>True</td>\n    </tr>\n    <tr>\n      <th>...</th>\n      <td>...</td>\n      <td>...</td>\n      <td>...</td>\n      <td>...</td>\n    </tr>\n    <tr>\n      <th>25543</th>\n      <td>0.00</td>\n      <td>49</td>\n      <td>34</td>\n      <td>False</td>\n    </tr>\n    <tr>\n      <th>25544</th>\n      <td>0.00</td>\n      <td>49</td>\n      <td>29</td>\n      <td>False</td>\n    </tr>\n    <tr>\n      <th>25545</th>\n      <td>0.00</td>\n      <td>46</td>\n      <td>32</td>\n      <td>False</td>\n    </tr>\n    <tr>\n      <th>25546</th>\n      <td>0.00</td>\n      <td>48</td>\n      <td>34</td>\n      <td>False</td>\n    </tr>\n    <tr>\n      <th>25547</th>\n      <td>0.00</td>\n      <td>50</td>\n      <td>36</td>\n      <td>False</td>\n    </tr>\n  </tbody>\n</table>\n<p>25548 rows × 4 columns</p>\n</div>"
     },
     "execution_count": 79,
     "metadata": {},
     "output_type": "execute_result"
    }
   ],
   "source": [
    "#Create a n array with the values of PRCP, TMAX, TMIN, and RAIN\n",
    "Data = Data[['PRCP', 'TMAX', 'TMIN', 'RAIN']]\n",
    "Data"
   ],
   "metadata": {
    "collapsed": false,
    "pycharm": {
     "name": "#%%\n"
    }
   }
  },
  {
   "cell_type": "code",
   "execution_count": 80,
   "outputs": [
    {
     "data": {
      "text/plain": "       PRCP  TMAX  TMIN   RAIN\n0      0.47    51    42   True\n1      0.59    45    36   True\n2      0.42    45    35   True\n3      0.31    45    34   True\n4      0.17    45    32   True\n...     ...   ...   ...    ...\n25543  0.00    49    34  False\n25544  0.00    49    29  False\n25545  0.00    46    32  False\n25546  0.00    48    34  False\n25547  0.00    50    36  False\n\n[25548 rows x 4 columns]",
      "text/html": "<div>\n<style scoped>\n    .dataframe tbody tr th:only-of-type {\n        vertical-align: middle;\n    }\n\n    .dataframe tbody tr th {\n        vertical-align: top;\n    }\n\n    .dataframe thead th {\n        text-align: right;\n    }\n</style>\n<table border=\"1\" class=\"dataframe\">\n  <thead>\n    <tr style=\"text-align: right;\">\n      <th></th>\n      <th>PRCP</th>\n      <th>TMAX</th>\n      <th>TMIN</th>\n      <th>RAIN</th>\n    </tr>\n  </thead>\n  <tbody>\n    <tr>\n      <th>0</th>\n      <td>0.47</td>\n      <td>51</td>\n      <td>42</td>\n      <td>True</td>\n    </tr>\n    <tr>\n      <th>1</th>\n      <td>0.59</td>\n      <td>45</td>\n      <td>36</td>\n      <td>True</td>\n    </tr>\n    <tr>\n      <th>2</th>\n      <td>0.42</td>\n      <td>45</td>\n      <td>35</td>\n      <td>True</td>\n    </tr>\n    <tr>\n      <th>3</th>\n      <td>0.31</td>\n      <td>45</td>\n      <td>34</td>\n      <td>True</td>\n    </tr>\n    <tr>\n      <th>4</th>\n      <td>0.17</td>\n      <td>45</td>\n      <td>32</td>\n      <td>True</td>\n    </tr>\n    <tr>\n      <th>...</th>\n      <td>...</td>\n      <td>...</td>\n      <td>...</td>\n      <td>...</td>\n    </tr>\n    <tr>\n      <th>25543</th>\n      <td>0.00</td>\n      <td>49</td>\n      <td>34</td>\n      <td>False</td>\n    </tr>\n    <tr>\n      <th>25544</th>\n      <td>0.00</td>\n      <td>49</td>\n      <td>29</td>\n      <td>False</td>\n    </tr>\n    <tr>\n      <th>25545</th>\n      <td>0.00</td>\n      <td>46</td>\n      <td>32</td>\n      <td>False</td>\n    </tr>\n    <tr>\n      <th>25546</th>\n      <td>0.00</td>\n      <td>48</td>\n      <td>34</td>\n      <td>False</td>\n    </tr>\n    <tr>\n      <th>25547</th>\n      <td>0.00</td>\n      <td>50</td>\n      <td>36</td>\n      <td>False</td>\n    </tr>\n  </tbody>\n</table>\n<p>25548 rows × 4 columns</p>\n</div>"
     },
     "execution_count": 80,
     "metadata": {},
     "output_type": "execute_result"
    }
   ],
   "source": [
    "#Eliminate possible void values\n",
    "Data = Data[Data['PRCP'] != 'T']\n",
    "Data = Data[Data['TMAX'] != 'T']\n",
    "Data = Data[Data['TMIN'] != 'T']\n",
    "Data = Data[Data['RAIN'] != 'T']\n",
    "Data"
   ],
   "metadata": {
    "collapsed": false,
    "pycharm": {
     "name": "#%%\n"
    }
   }
  },
  {
   "cell_type": "code",
   "execution_count": 81,
   "outputs": [
    {
     "data": {
      "text/plain": "       PRCP  TMAX  TMIN  RAIN\n0      0.47  51.0  42.0   1.0\n1      0.59  45.0  36.0   1.0\n2      0.42  45.0  35.0   1.0\n3      0.31  45.0  34.0   1.0\n4      0.17  45.0  32.0   1.0\n...     ...   ...   ...   ...\n25543  0.00  49.0  34.0   0.0\n25544  0.00  49.0  29.0   0.0\n25545  0.00  46.0  32.0   0.0\n25546  0.00  48.0  34.0   0.0\n25547  0.00  50.0  36.0   0.0\n\n[25548 rows x 4 columns]",
      "text/html": "<div>\n<style scoped>\n    .dataframe tbody tr th:only-of-type {\n        vertical-align: middle;\n    }\n\n    .dataframe tbody tr th {\n        vertical-align: top;\n    }\n\n    .dataframe thead th {\n        text-align: right;\n    }\n</style>\n<table border=\"1\" class=\"dataframe\">\n  <thead>\n    <tr style=\"text-align: right;\">\n      <th></th>\n      <th>PRCP</th>\n      <th>TMAX</th>\n      <th>TMIN</th>\n      <th>RAIN</th>\n    </tr>\n  </thead>\n  <tbody>\n    <tr>\n      <th>0</th>\n      <td>0.47</td>\n      <td>51.0</td>\n      <td>42.0</td>\n      <td>1.0</td>\n    </tr>\n    <tr>\n      <th>1</th>\n      <td>0.59</td>\n      <td>45.0</td>\n      <td>36.0</td>\n      <td>1.0</td>\n    </tr>\n    <tr>\n      <th>2</th>\n      <td>0.42</td>\n      <td>45.0</td>\n      <td>35.0</td>\n      <td>1.0</td>\n    </tr>\n    <tr>\n      <th>3</th>\n      <td>0.31</td>\n      <td>45.0</td>\n      <td>34.0</td>\n      <td>1.0</td>\n    </tr>\n    <tr>\n      <th>4</th>\n      <td>0.17</td>\n      <td>45.0</td>\n      <td>32.0</td>\n      <td>1.0</td>\n    </tr>\n    <tr>\n      <th>...</th>\n      <td>...</td>\n      <td>...</td>\n      <td>...</td>\n      <td>...</td>\n    </tr>\n    <tr>\n      <th>25543</th>\n      <td>0.00</td>\n      <td>49.0</td>\n      <td>34.0</td>\n      <td>0.0</td>\n    </tr>\n    <tr>\n      <th>25544</th>\n      <td>0.00</td>\n      <td>49.0</td>\n      <td>29.0</td>\n      <td>0.0</td>\n    </tr>\n    <tr>\n      <th>25545</th>\n      <td>0.00</td>\n      <td>46.0</td>\n      <td>32.0</td>\n      <td>0.0</td>\n    </tr>\n    <tr>\n      <th>25546</th>\n      <td>0.00</td>\n      <td>48.0</td>\n      <td>34.0</td>\n      <td>0.0</td>\n    </tr>\n    <tr>\n      <th>25547</th>\n      <td>0.00</td>\n      <td>50.0</td>\n      <td>36.0</td>\n      <td>0.0</td>\n    </tr>\n  </tbody>\n</table>\n<p>25548 rows × 4 columns</p>\n</div>"
     },
     "execution_count": 81,
     "metadata": {},
     "output_type": "execute_result"
    }
   ],
   "source": [
    "#Convert the values of PRCP, TMAX, TMIN, and RAIN to float\n",
    "Data['PRCP'] = Data['PRCP'].astype(float)\n",
    "Data['TMAX'] = Data['TMAX'].astype(float)\n",
    "Data['TMIN'] = Data['TMIN'].astype(float)\n",
    "Data['RAIN'] = Data['RAIN'].astype(float)\n",
    "Data"
   ],
   "metadata": {
    "collapsed": false,
    "pycharm": {
     "name": "#%%\n"
    }
   }
  },
  {
   "cell_type": "code",
   "execution_count": 82,
   "outputs": [],
   "source": [
    "#Create the tensor\n",
    "Data = torch.tensor(Data.values)"
   ],
   "metadata": {
    "collapsed": false,
    "pycharm": {
     "name": "#%%\n"
    }
   }
  },
  {
   "cell_type": "code",
   "execution_count": 83,
   "outputs": [],
   "source": [
    "#Split the tensor into training and testing\n",
    "Train = Data[:int(0.8*len(Data))]\n",
    "Test = Data[int(0.8*len(Data)):]"
   ],
   "metadata": {
    "collapsed": false,
    "pycharm": {
     "name": "#%%\n"
    }
   }
  },
  {
   "cell_type": "code",
   "execution_count": 84,
   "outputs": [],
   "source": [
    "#Create the training and testing dataloaders\n",
    "Train_loader = DataLoader(Train, batch_size=2, shuffle=True)\n",
    "Test_loader = DataLoader(Test, batch_size=2, shuffle=True)"
   ],
   "metadata": {
    "collapsed": false,
    "pycharm": {
     "name": "#%%\n"
    }
   }
  },
  {
   "cell_type": "code",
   "execution_count": 85,
   "outputs": [],
   "source": [
    "#Create the model\n",
    "class Predictor(nn.Module):\n",
    "    def __init__(self):\n",
    "        super(Predictor, self).__init__()\n",
    "        self.l1=nn.Linear(4, 4)\n",
    "        self.l2=nn.Linear(4, 4)\n",
    "        self.l3=nn.Linear(4, 1)\n",
    "        self.do=nn.Dropout(0.1)\n",
    "    def forward(self, x):\n",
    "        h1 = nn.functional.relu(self.l1(x))\n",
    "        h2 = nn.functional.relu(self.l2(h1))\n",
    "        do = self.do(h2+h1)\n",
    "        logits = self.l3(do)\n",
    "        return logits"
   ],
   "metadata": {
    "collapsed": false,
    "pycharm": {
     "name": "#%%\n"
    }
   }
  },
  {
   "cell_type": "code",
   "execution_count": 86,
   "outputs": [],
   "source": [
    "Model = Predictor().cuda()"
   ],
   "metadata": {
    "collapsed": false,
    "pycharm": {
     "name": "#%%\n"
    }
   }
  },
  {
   "cell_type": "code",
   "execution_count": 87,
   "outputs": [],
   "source": [
    "#Define cost and optimizer\n",
    "Parameters = Model.parameters()\n",
    "Optimizer = torch.optim.SGD(Parameters, lr=0.001)\n",
    "Loss = nn.CrossEntropyLoss()"
   ],
   "metadata": {
    "collapsed": false,
    "pycharm": {
     "name": "#%%\n"
    }
   }
  },
  {
   "cell_type": "code",
   "execution_count": 88,
   "outputs": [],
   "source": [
    "#Greate target for the training according to 32 batch sizes\n",
    "Target = torch.zeros(2, dtype=torch.long).cuda()"
   ],
   "metadata": {
    "collapsed": false,
    "pycharm": {
     "name": "#%%\n"
    }
   }
  },
  {
   "cell_type": "code",
   "execution_count": null,
   "outputs": [],
   "source": [
    "#Train the model and calculate the accuracy\n",
    "def train(Model, Train_loader,Target, Loss, Optimizer, Epochs):\n",
    "    Model.train()\n",
    "    for epoch in tqdm(range(Epochs)):\n",
    "        for batch_idx, sample in tqdm(enumerate(Train_loader)):\n",
    "            #print(sample)\n",
    "            #data, target = sample['data'].cuda()#, sample['target'].cuda()\n",
    "            data = sample.cuda()\n",
    "            Optimizer.zero_grad()\n",
    "            output = Model(data.float())\n",
    "            loss = Loss(output, Target)\n",
    "            loss.backward()\n",
    "            Optimizer.step()\n",
    "            if batch_idx % 100 == 0:\n",
    "                print('Train Epoch: {} [{}/{} ({:.0f}%)]\\tLoss: {:.6f}'.format(\n",
    "                    epoch, batch_idx * len(data), len(Train_loader.dataset),\n",
    "                    100. * batch_idx / len(Train_loader), loss.item()))"
   ],
   "metadata": {
    "collapsed": false,
    "pycharm": {
     "name": "#%%\n"
    }
   }
  },
  {
   "cell_type": "code",
   "execution_count": 92,
   "outputs": [
    {
     "data": {
      "text/plain": "  0%|          | 0/5 [00:00<?, ?it/s]",
      "application/vnd.jupyter.widget-view+json": {
       "version_major": 2,
       "version_minor": 0,
       "model_id": "5ec96b8b31774687906645eb54e3db0f"
      }
     },
     "metadata": {},
     "output_type": "display_data"
    },
    {
     "data": {
      "text/plain": "0it [00:00, ?it/s]",
      "application/vnd.jupyter.widget-view+json": {
       "version_major": 2,
       "version_minor": 0,
       "model_id": "ce49d527e0f24ad4b6ea1e2bd008e0ad"
      }
     },
     "metadata": {},
     "output_type": "display_data"
    },
    {
     "name": "stdout",
     "output_type": "stream",
     "text": [
      "Train Epoch: 0 [0/20438 (0%)]\tLoss: 0.000000\n",
      "Train Epoch: 0 [200/20438 (1%)]\tLoss: 0.000000\n",
      "Train Epoch: 0 [400/20438 (2%)]\tLoss: 0.000000\n",
      "Train Epoch: 0 [600/20438 (3%)]\tLoss: 0.000000\n",
      "Train Epoch: 0 [800/20438 (4%)]\tLoss: 0.000000\n",
      "Train Epoch: 0 [1000/20438 (5%)]\tLoss: 0.000000\n",
      "Train Epoch: 0 [1200/20438 (6%)]\tLoss: 0.000000\n",
      "Train Epoch: 0 [1400/20438 (7%)]\tLoss: 0.000000\n",
      "Train Epoch: 0 [1600/20438 (8%)]\tLoss: 0.000000\n",
      "Train Epoch: 0 [1800/20438 (9%)]\tLoss: 0.000000\n",
      "Train Epoch: 0 [2000/20438 (10%)]\tLoss: 0.000000\n",
      "Train Epoch: 0 [2200/20438 (11%)]\tLoss: 0.000000\n",
      "Train Epoch: 0 [2400/20438 (12%)]\tLoss: 0.000000\n",
      "Train Epoch: 0 [2600/20438 (13%)]\tLoss: 0.000000\n",
      "Train Epoch: 0 [2800/20438 (14%)]\tLoss: 0.000000\n",
      "Train Epoch: 0 [3000/20438 (15%)]\tLoss: 0.000000\n",
      "Train Epoch: 0 [3200/20438 (16%)]\tLoss: 0.000000\n",
      "Train Epoch: 0 [3400/20438 (17%)]\tLoss: 0.000000\n",
      "Train Epoch: 0 [3600/20438 (18%)]\tLoss: 0.000000\n",
      "Train Epoch: 0 [3800/20438 (19%)]\tLoss: 0.000000\n",
      "Train Epoch: 0 [4000/20438 (20%)]\tLoss: 0.000000\n",
      "Train Epoch: 0 [4200/20438 (21%)]\tLoss: 0.000000\n",
      "Train Epoch: 0 [4400/20438 (22%)]\tLoss: 0.000000\n",
      "Train Epoch: 0 [4600/20438 (23%)]\tLoss: 0.000000\n",
      "Train Epoch: 0 [4800/20438 (23%)]\tLoss: 0.000000\n",
      "Train Epoch: 0 [5000/20438 (24%)]\tLoss: 0.000000\n",
      "Train Epoch: 0 [5200/20438 (25%)]\tLoss: 0.000000\n",
      "Train Epoch: 0 [5400/20438 (26%)]\tLoss: 0.000000\n",
      "Train Epoch: 0 [5600/20438 (27%)]\tLoss: 0.000000\n",
      "Train Epoch: 0 [5800/20438 (28%)]\tLoss: 0.000000\n",
      "Train Epoch: 0 [6000/20438 (29%)]\tLoss: 0.000000\n",
      "Train Epoch: 0 [6200/20438 (30%)]\tLoss: 0.000000\n",
      "Train Epoch: 0 [6400/20438 (31%)]\tLoss: 0.000000\n",
      "Train Epoch: 0 [6600/20438 (32%)]\tLoss: 0.000000\n",
      "Train Epoch: 0 [6800/20438 (33%)]\tLoss: 0.000000\n",
      "Train Epoch: 0 [7000/20438 (34%)]\tLoss: 0.000000\n",
      "Train Epoch: 0 [7200/20438 (35%)]\tLoss: 0.000000\n",
      "Train Epoch: 0 [7400/20438 (36%)]\tLoss: 0.000000\n",
      "Train Epoch: 0 [7600/20438 (37%)]\tLoss: 0.000000\n",
      "Train Epoch: 0 [7800/20438 (38%)]\tLoss: 0.000000\n",
      "Train Epoch: 0 [8000/20438 (39%)]\tLoss: 0.000000\n",
      "Train Epoch: 0 [8200/20438 (40%)]\tLoss: 0.000000\n",
      "Train Epoch: 0 [8400/20438 (41%)]\tLoss: 0.000000\n",
      "Train Epoch: 0 [8600/20438 (42%)]\tLoss: 0.000000\n",
      "Train Epoch: 0 [8800/20438 (43%)]\tLoss: 0.000000\n",
      "Train Epoch: 0 [9000/20438 (44%)]\tLoss: 0.000000\n",
      "Train Epoch: 0 [9200/20438 (45%)]\tLoss: 0.000000\n",
      "Train Epoch: 0 [9400/20438 (46%)]\tLoss: 0.000000\n",
      "Train Epoch: 0 [9600/20438 (47%)]\tLoss: 0.000000\n",
      "Train Epoch: 0 [9800/20438 (48%)]\tLoss: 0.000000\n",
      "Train Epoch: 0 [10000/20438 (49%)]\tLoss: 0.000000\n",
      "Train Epoch: 0 [10200/20438 (50%)]\tLoss: 0.000000\n",
      "Train Epoch: 0 [10400/20438 (51%)]\tLoss: 0.000000\n",
      "Train Epoch: 0 [10600/20438 (52%)]\tLoss: 0.000000\n",
      "Train Epoch: 0 [10800/20438 (53%)]\tLoss: 0.000000\n",
      "Train Epoch: 0 [11000/20438 (54%)]\tLoss: 0.000000\n",
      "Train Epoch: 0 [11200/20438 (55%)]\tLoss: 0.000000\n",
      "Train Epoch: 0 [11400/20438 (56%)]\tLoss: 0.000000\n",
      "Train Epoch: 0 [11600/20438 (57%)]\tLoss: 0.000000\n",
      "Train Epoch: 0 [11800/20438 (58%)]\tLoss: 0.000000\n",
      "Train Epoch: 0 [12000/20438 (59%)]\tLoss: 0.000000\n",
      "Train Epoch: 0 [12200/20438 (60%)]\tLoss: 0.000000\n",
      "Train Epoch: 0 [12400/20438 (61%)]\tLoss: 0.000000\n",
      "Train Epoch: 0 [12600/20438 (62%)]\tLoss: 0.000000\n",
      "Train Epoch: 0 [12800/20438 (63%)]\tLoss: 0.000000\n",
      "Train Epoch: 0 [13000/20438 (64%)]\tLoss: 0.000000\n",
      "Train Epoch: 0 [13200/20438 (65%)]\tLoss: 0.000000\n",
      "Train Epoch: 0 [13400/20438 (66%)]\tLoss: 0.000000\n",
      "Train Epoch: 0 [13600/20438 (67%)]\tLoss: 0.000000\n",
      "Train Epoch: 0 [13800/20438 (68%)]\tLoss: 0.000000\n",
      "Train Epoch: 0 [14000/20438 (68%)]\tLoss: 0.000000\n",
      "Train Epoch: 0 [14200/20438 (69%)]\tLoss: 0.000000\n",
      "Train Epoch: 0 [14400/20438 (70%)]\tLoss: 0.000000\n",
      "Train Epoch: 0 [14600/20438 (71%)]\tLoss: 0.000000\n",
      "Train Epoch: 0 [14800/20438 (72%)]\tLoss: 0.000000\n",
      "Train Epoch: 0 [15000/20438 (73%)]\tLoss: 0.000000\n",
      "Train Epoch: 0 [15200/20438 (74%)]\tLoss: 0.000000\n",
      "Train Epoch: 0 [15400/20438 (75%)]\tLoss: 0.000000\n",
      "Train Epoch: 0 [15600/20438 (76%)]\tLoss: 0.000000\n",
      "Train Epoch: 0 [15800/20438 (77%)]\tLoss: 0.000000\n",
      "Train Epoch: 0 [16000/20438 (78%)]\tLoss: 0.000000\n",
      "Train Epoch: 0 [16200/20438 (79%)]\tLoss: 0.000000\n",
      "Train Epoch: 0 [16400/20438 (80%)]\tLoss: 0.000000\n",
      "Train Epoch: 0 [16600/20438 (81%)]\tLoss: 0.000000\n",
      "Train Epoch: 0 [16800/20438 (82%)]\tLoss: 0.000000\n",
      "Train Epoch: 0 [17000/20438 (83%)]\tLoss: 0.000000\n",
      "Train Epoch: 0 [17200/20438 (84%)]\tLoss: 0.000000\n",
      "Train Epoch: 0 [17400/20438 (85%)]\tLoss: 0.000000\n",
      "Train Epoch: 0 [17600/20438 (86%)]\tLoss: 0.000000\n",
      "Train Epoch: 0 [17800/20438 (87%)]\tLoss: 0.000000\n",
      "Train Epoch: 0 [18000/20438 (88%)]\tLoss: 0.000000\n",
      "Train Epoch: 0 [18200/20438 (89%)]\tLoss: 0.000000\n",
      "Train Epoch: 0 [18400/20438 (90%)]\tLoss: 0.000000\n",
      "Train Epoch: 0 [18600/20438 (91%)]\tLoss: 0.000000\n",
      "Train Epoch: 0 [18800/20438 (92%)]\tLoss: 0.000000\n",
      "Train Epoch: 0 [19000/20438 (93%)]\tLoss: 0.000000\n",
      "Train Epoch: 0 [19200/20438 (94%)]\tLoss: 0.000000\n",
      "Train Epoch: 0 [19400/20438 (95%)]\tLoss: 0.000000\n",
      "Train Epoch: 0 [19600/20438 (96%)]\tLoss: 0.000000\n",
      "Train Epoch: 0 [19800/20438 (97%)]\tLoss: 0.000000\n",
      "Train Epoch: 0 [20000/20438 (98%)]\tLoss: 0.000000\n",
      "Train Epoch: 0 [20200/20438 (99%)]\tLoss: 0.000000\n",
      "Train Epoch: 0 [20400/20438 (100%)]\tLoss: 0.000000\n"
     ]
    },
    {
     "data": {
      "text/plain": "0it [00:00, ?it/s]",
      "application/vnd.jupyter.widget-view+json": {
       "version_major": 2,
       "version_minor": 0,
       "model_id": "d6683d4a4b3a4e2e939d36561507c0c8"
      }
     },
     "metadata": {},
     "output_type": "display_data"
    },
    {
     "name": "stdout",
     "output_type": "stream",
     "text": [
      "Train Epoch: 1 [0/20438 (0%)]\tLoss: 0.000000\n",
      "Train Epoch: 1 [200/20438 (1%)]\tLoss: 0.000000\n",
      "Train Epoch: 1 [400/20438 (2%)]\tLoss: 0.000000\n",
      "Train Epoch: 1 [600/20438 (3%)]\tLoss: 0.000000\n",
      "Train Epoch: 1 [800/20438 (4%)]\tLoss: 0.000000\n",
      "Train Epoch: 1 [1000/20438 (5%)]\tLoss: 0.000000\n",
      "Train Epoch: 1 [1200/20438 (6%)]\tLoss: 0.000000\n",
      "Train Epoch: 1 [1400/20438 (7%)]\tLoss: 0.000000\n",
      "Train Epoch: 1 [1600/20438 (8%)]\tLoss: 0.000000\n",
      "Train Epoch: 1 [1800/20438 (9%)]\tLoss: 0.000000\n",
      "Train Epoch: 1 [2000/20438 (10%)]\tLoss: 0.000000\n",
      "Train Epoch: 1 [2200/20438 (11%)]\tLoss: 0.000000\n",
      "Train Epoch: 1 [2400/20438 (12%)]\tLoss: 0.000000\n",
      "Train Epoch: 1 [2600/20438 (13%)]\tLoss: 0.000000\n",
      "Train Epoch: 1 [2800/20438 (14%)]\tLoss: 0.000000\n",
      "Train Epoch: 1 [3000/20438 (15%)]\tLoss: 0.000000\n",
      "Train Epoch: 1 [3200/20438 (16%)]\tLoss: 0.000000\n",
      "Train Epoch: 1 [3400/20438 (17%)]\tLoss: 0.000000\n",
      "Train Epoch: 1 [3600/20438 (18%)]\tLoss: 0.000000\n",
      "Train Epoch: 1 [3800/20438 (19%)]\tLoss: 0.000000\n",
      "Train Epoch: 1 [4000/20438 (20%)]\tLoss: 0.000000\n",
      "Train Epoch: 1 [4200/20438 (21%)]\tLoss: 0.000000\n",
      "Train Epoch: 1 [4400/20438 (22%)]\tLoss: 0.000000\n",
      "Train Epoch: 1 [4600/20438 (23%)]\tLoss: 0.000000\n",
      "Train Epoch: 1 [4800/20438 (23%)]\tLoss: 0.000000\n",
      "Train Epoch: 1 [5000/20438 (24%)]\tLoss: 0.000000\n",
      "Train Epoch: 1 [5200/20438 (25%)]\tLoss: 0.000000\n",
      "Train Epoch: 1 [5400/20438 (26%)]\tLoss: 0.000000\n",
      "Train Epoch: 1 [5600/20438 (27%)]\tLoss: 0.000000\n",
      "Train Epoch: 1 [5800/20438 (28%)]\tLoss: 0.000000\n",
      "Train Epoch: 1 [6000/20438 (29%)]\tLoss: 0.000000\n",
      "Train Epoch: 1 [6200/20438 (30%)]\tLoss: 0.000000\n",
      "Train Epoch: 1 [6400/20438 (31%)]\tLoss: 0.000000\n",
      "Train Epoch: 1 [6600/20438 (32%)]\tLoss: 0.000000\n",
      "Train Epoch: 1 [6800/20438 (33%)]\tLoss: 0.000000\n",
      "Train Epoch: 1 [7000/20438 (34%)]\tLoss: 0.000000\n",
      "Train Epoch: 1 [7200/20438 (35%)]\tLoss: 0.000000\n",
      "Train Epoch: 1 [7400/20438 (36%)]\tLoss: 0.000000\n",
      "Train Epoch: 1 [7600/20438 (37%)]\tLoss: 0.000000\n",
      "Train Epoch: 1 [7800/20438 (38%)]\tLoss: 0.000000\n",
      "Train Epoch: 1 [8000/20438 (39%)]\tLoss: 0.000000\n",
      "Train Epoch: 1 [8200/20438 (40%)]\tLoss: 0.000000\n",
      "Train Epoch: 1 [8400/20438 (41%)]\tLoss: 0.000000\n",
      "Train Epoch: 1 [8600/20438 (42%)]\tLoss: 0.000000\n",
      "Train Epoch: 1 [8800/20438 (43%)]\tLoss: 0.000000\n",
      "Train Epoch: 1 [9000/20438 (44%)]\tLoss: 0.000000\n",
      "Train Epoch: 1 [9200/20438 (45%)]\tLoss: 0.000000\n",
      "Train Epoch: 1 [9400/20438 (46%)]\tLoss: 0.000000\n",
      "Train Epoch: 1 [9600/20438 (47%)]\tLoss: 0.000000\n",
      "Train Epoch: 1 [9800/20438 (48%)]\tLoss: 0.000000\n",
      "Train Epoch: 1 [10000/20438 (49%)]\tLoss: 0.000000\n",
      "Train Epoch: 1 [10200/20438 (50%)]\tLoss: 0.000000\n",
      "Train Epoch: 1 [10400/20438 (51%)]\tLoss: 0.000000\n",
      "Train Epoch: 1 [10600/20438 (52%)]\tLoss: 0.000000\n",
      "Train Epoch: 1 [10800/20438 (53%)]\tLoss: 0.000000\n",
      "Train Epoch: 1 [11000/20438 (54%)]\tLoss: 0.000000\n",
      "Train Epoch: 1 [11200/20438 (55%)]\tLoss: 0.000000\n",
      "Train Epoch: 1 [11400/20438 (56%)]\tLoss: 0.000000\n",
      "Train Epoch: 1 [11600/20438 (57%)]\tLoss: 0.000000\n",
      "Train Epoch: 1 [11800/20438 (58%)]\tLoss: 0.000000\n",
      "Train Epoch: 1 [12000/20438 (59%)]\tLoss: 0.000000\n",
      "Train Epoch: 1 [12200/20438 (60%)]\tLoss: 0.000000\n",
      "Train Epoch: 1 [12400/20438 (61%)]\tLoss: 0.000000\n",
      "Train Epoch: 1 [12600/20438 (62%)]\tLoss: 0.000000\n",
      "Train Epoch: 1 [12800/20438 (63%)]\tLoss: 0.000000\n",
      "Train Epoch: 1 [13000/20438 (64%)]\tLoss: 0.000000\n",
      "Train Epoch: 1 [13200/20438 (65%)]\tLoss: 0.000000\n",
      "Train Epoch: 1 [13400/20438 (66%)]\tLoss: 0.000000\n",
      "Train Epoch: 1 [13600/20438 (67%)]\tLoss: 0.000000\n",
      "Train Epoch: 1 [13800/20438 (68%)]\tLoss: 0.000000\n",
      "Train Epoch: 1 [14000/20438 (68%)]\tLoss: 0.000000\n",
      "Train Epoch: 1 [14200/20438 (69%)]\tLoss: 0.000000\n",
      "Train Epoch: 1 [14400/20438 (70%)]\tLoss: 0.000000\n",
      "Train Epoch: 1 [14600/20438 (71%)]\tLoss: 0.000000\n",
      "Train Epoch: 1 [14800/20438 (72%)]\tLoss: 0.000000\n",
      "Train Epoch: 1 [15000/20438 (73%)]\tLoss: 0.000000\n",
      "Train Epoch: 1 [15200/20438 (74%)]\tLoss: 0.000000\n",
      "Train Epoch: 1 [15400/20438 (75%)]\tLoss: 0.000000\n",
      "Train Epoch: 1 [15600/20438 (76%)]\tLoss: 0.000000\n",
      "Train Epoch: 1 [15800/20438 (77%)]\tLoss: 0.000000\n",
      "Train Epoch: 1 [16000/20438 (78%)]\tLoss: 0.000000\n",
      "Train Epoch: 1 [16200/20438 (79%)]\tLoss: 0.000000\n",
      "Train Epoch: 1 [16400/20438 (80%)]\tLoss: 0.000000\n",
      "Train Epoch: 1 [16600/20438 (81%)]\tLoss: 0.000000\n",
      "Train Epoch: 1 [16800/20438 (82%)]\tLoss: 0.000000\n",
      "Train Epoch: 1 [17000/20438 (83%)]\tLoss: 0.000000\n",
      "Train Epoch: 1 [17200/20438 (84%)]\tLoss: 0.000000\n",
      "Train Epoch: 1 [17400/20438 (85%)]\tLoss: 0.000000\n",
      "Train Epoch: 1 [17600/20438 (86%)]\tLoss: 0.000000\n",
      "Train Epoch: 1 [17800/20438 (87%)]\tLoss: 0.000000\n",
      "Train Epoch: 1 [18000/20438 (88%)]\tLoss: 0.000000\n",
      "Train Epoch: 1 [18200/20438 (89%)]\tLoss: 0.000000\n",
      "Train Epoch: 1 [18400/20438 (90%)]\tLoss: 0.000000\n",
      "Train Epoch: 1 [18600/20438 (91%)]\tLoss: 0.000000\n",
      "Train Epoch: 1 [18800/20438 (92%)]\tLoss: 0.000000\n",
      "Train Epoch: 1 [19000/20438 (93%)]\tLoss: 0.000000\n",
      "Train Epoch: 1 [19200/20438 (94%)]\tLoss: 0.000000\n",
      "Train Epoch: 1 [19400/20438 (95%)]\tLoss: 0.000000\n",
      "Train Epoch: 1 [19600/20438 (96%)]\tLoss: 0.000000\n",
      "Train Epoch: 1 [19800/20438 (97%)]\tLoss: 0.000000\n",
      "Train Epoch: 1 [20000/20438 (98%)]\tLoss: 0.000000\n",
      "Train Epoch: 1 [20200/20438 (99%)]\tLoss: 0.000000\n",
      "Train Epoch: 1 [20400/20438 (100%)]\tLoss: 0.000000\n"
     ]
    },
    {
     "data": {
      "text/plain": "0it [00:00, ?it/s]",
      "application/vnd.jupyter.widget-view+json": {
       "version_major": 2,
       "version_minor": 0,
       "model_id": "7e59907552d343aeb559cd89a4de46ae"
      }
     },
     "metadata": {},
     "output_type": "display_data"
    },
    {
     "name": "stdout",
     "output_type": "stream",
     "text": [
      "Train Epoch: 2 [0/20438 (0%)]\tLoss: 0.000000\n",
      "Train Epoch: 2 [200/20438 (1%)]\tLoss: 0.000000\n",
      "Train Epoch: 2 [400/20438 (2%)]\tLoss: 0.000000\n",
      "Train Epoch: 2 [600/20438 (3%)]\tLoss: 0.000000\n",
      "Train Epoch: 2 [800/20438 (4%)]\tLoss: 0.000000\n",
      "Train Epoch: 2 [1000/20438 (5%)]\tLoss: 0.000000\n",
      "Train Epoch: 2 [1200/20438 (6%)]\tLoss: 0.000000\n",
      "Train Epoch: 2 [1400/20438 (7%)]\tLoss: 0.000000\n",
      "Train Epoch: 2 [1600/20438 (8%)]\tLoss: 0.000000\n",
      "Train Epoch: 2 [1800/20438 (9%)]\tLoss: 0.000000\n",
      "Train Epoch: 2 [2000/20438 (10%)]\tLoss: 0.000000\n",
      "Train Epoch: 2 [2200/20438 (11%)]\tLoss: 0.000000\n",
      "Train Epoch: 2 [2400/20438 (12%)]\tLoss: 0.000000\n",
      "Train Epoch: 2 [2600/20438 (13%)]\tLoss: 0.000000\n",
      "Train Epoch: 2 [2800/20438 (14%)]\tLoss: 0.000000\n",
      "Train Epoch: 2 [3000/20438 (15%)]\tLoss: 0.000000\n",
      "Train Epoch: 2 [3200/20438 (16%)]\tLoss: 0.000000\n",
      "Train Epoch: 2 [3400/20438 (17%)]\tLoss: 0.000000\n",
      "Train Epoch: 2 [3600/20438 (18%)]\tLoss: 0.000000\n",
      "Train Epoch: 2 [3800/20438 (19%)]\tLoss: 0.000000\n",
      "Train Epoch: 2 [4000/20438 (20%)]\tLoss: 0.000000\n",
      "Train Epoch: 2 [4200/20438 (21%)]\tLoss: 0.000000\n",
      "Train Epoch: 2 [4400/20438 (22%)]\tLoss: 0.000000\n",
      "Train Epoch: 2 [4600/20438 (23%)]\tLoss: 0.000000\n",
      "Train Epoch: 2 [4800/20438 (23%)]\tLoss: 0.000000\n",
      "Train Epoch: 2 [5000/20438 (24%)]\tLoss: 0.000000\n",
      "Train Epoch: 2 [5200/20438 (25%)]\tLoss: 0.000000\n",
      "Train Epoch: 2 [5400/20438 (26%)]\tLoss: 0.000000\n",
      "Train Epoch: 2 [5600/20438 (27%)]\tLoss: 0.000000\n",
      "Train Epoch: 2 [5800/20438 (28%)]\tLoss: 0.000000\n",
      "Train Epoch: 2 [6000/20438 (29%)]\tLoss: 0.000000\n",
      "Train Epoch: 2 [6200/20438 (30%)]\tLoss: 0.000000\n",
      "Train Epoch: 2 [6400/20438 (31%)]\tLoss: 0.000000\n",
      "Train Epoch: 2 [6600/20438 (32%)]\tLoss: 0.000000\n",
      "Train Epoch: 2 [6800/20438 (33%)]\tLoss: 0.000000\n",
      "Train Epoch: 2 [7000/20438 (34%)]\tLoss: 0.000000\n",
      "Train Epoch: 2 [7200/20438 (35%)]\tLoss: 0.000000\n",
      "Train Epoch: 2 [7400/20438 (36%)]\tLoss: 0.000000\n",
      "Train Epoch: 2 [7600/20438 (37%)]\tLoss: 0.000000\n",
      "Train Epoch: 2 [7800/20438 (38%)]\tLoss: 0.000000\n",
      "Train Epoch: 2 [8000/20438 (39%)]\tLoss: 0.000000\n",
      "Train Epoch: 2 [8200/20438 (40%)]\tLoss: 0.000000\n",
      "Train Epoch: 2 [8400/20438 (41%)]\tLoss: 0.000000\n",
      "Train Epoch: 2 [8600/20438 (42%)]\tLoss: 0.000000\n",
      "Train Epoch: 2 [8800/20438 (43%)]\tLoss: 0.000000\n",
      "Train Epoch: 2 [9000/20438 (44%)]\tLoss: 0.000000\n",
      "Train Epoch: 2 [9200/20438 (45%)]\tLoss: 0.000000\n",
      "Train Epoch: 2 [9400/20438 (46%)]\tLoss: 0.000000\n",
      "Train Epoch: 2 [9600/20438 (47%)]\tLoss: 0.000000\n",
      "Train Epoch: 2 [9800/20438 (48%)]\tLoss: 0.000000\n",
      "Train Epoch: 2 [10000/20438 (49%)]\tLoss: 0.000000\n",
      "Train Epoch: 2 [10200/20438 (50%)]\tLoss: 0.000000\n",
      "Train Epoch: 2 [10400/20438 (51%)]\tLoss: 0.000000\n",
      "Train Epoch: 2 [10600/20438 (52%)]\tLoss: 0.000000\n",
      "Train Epoch: 2 [10800/20438 (53%)]\tLoss: 0.000000\n",
      "Train Epoch: 2 [11000/20438 (54%)]\tLoss: 0.000000\n",
      "Train Epoch: 2 [11200/20438 (55%)]\tLoss: 0.000000\n",
      "Train Epoch: 2 [11400/20438 (56%)]\tLoss: 0.000000\n",
      "Train Epoch: 2 [11600/20438 (57%)]\tLoss: 0.000000\n",
      "Train Epoch: 2 [11800/20438 (58%)]\tLoss: 0.000000\n",
      "Train Epoch: 2 [12000/20438 (59%)]\tLoss: 0.000000\n",
      "Train Epoch: 2 [12200/20438 (60%)]\tLoss: 0.000000\n",
      "Train Epoch: 2 [12400/20438 (61%)]\tLoss: 0.000000\n",
      "Train Epoch: 2 [12600/20438 (62%)]\tLoss: 0.000000\n",
      "Train Epoch: 2 [12800/20438 (63%)]\tLoss: 0.000000\n",
      "Train Epoch: 2 [13000/20438 (64%)]\tLoss: 0.000000\n",
      "Train Epoch: 2 [13200/20438 (65%)]\tLoss: 0.000000\n",
      "Train Epoch: 2 [13400/20438 (66%)]\tLoss: 0.000000\n",
      "Train Epoch: 2 [13600/20438 (67%)]\tLoss: 0.000000\n",
      "Train Epoch: 2 [13800/20438 (68%)]\tLoss: 0.000000\n",
      "Train Epoch: 2 [14000/20438 (68%)]\tLoss: 0.000000\n",
      "Train Epoch: 2 [14200/20438 (69%)]\tLoss: 0.000000\n",
      "Train Epoch: 2 [14400/20438 (70%)]\tLoss: 0.000000\n",
      "Train Epoch: 2 [14600/20438 (71%)]\tLoss: 0.000000\n",
      "Train Epoch: 2 [14800/20438 (72%)]\tLoss: 0.000000\n",
      "Train Epoch: 2 [15000/20438 (73%)]\tLoss: 0.000000\n",
      "Train Epoch: 2 [15200/20438 (74%)]\tLoss: 0.000000\n",
      "Train Epoch: 2 [15400/20438 (75%)]\tLoss: 0.000000\n",
      "Train Epoch: 2 [15600/20438 (76%)]\tLoss: 0.000000\n",
      "Train Epoch: 2 [15800/20438 (77%)]\tLoss: 0.000000\n",
      "Train Epoch: 2 [16000/20438 (78%)]\tLoss: 0.000000\n",
      "Train Epoch: 2 [16200/20438 (79%)]\tLoss: 0.000000\n",
      "Train Epoch: 2 [16400/20438 (80%)]\tLoss: 0.000000\n",
      "Train Epoch: 2 [16600/20438 (81%)]\tLoss: 0.000000\n",
      "Train Epoch: 2 [16800/20438 (82%)]\tLoss: 0.000000\n",
      "Train Epoch: 2 [17000/20438 (83%)]\tLoss: 0.000000\n",
      "Train Epoch: 2 [17200/20438 (84%)]\tLoss: 0.000000\n",
      "Train Epoch: 2 [17400/20438 (85%)]\tLoss: 0.000000\n",
      "Train Epoch: 2 [17600/20438 (86%)]\tLoss: 0.000000\n",
      "Train Epoch: 2 [17800/20438 (87%)]\tLoss: 0.000000\n",
      "Train Epoch: 2 [18000/20438 (88%)]\tLoss: 0.000000\n",
      "Train Epoch: 2 [18200/20438 (89%)]\tLoss: 0.000000\n",
      "Train Epoch: 2 [18400/20438 (90%)]\tLoss: 0.000000\n",
      "Train Epoch: 2 [18600/20438 (91%)]\tLoss: 0.000000\n",
      "Train Epoch: 2 [18800/20438 (92%)]\tLoss: 0.000000\n",
      "Train Epoch: 2 [19000/20438 (93%)]\tLoss: 0.000000\n",
      "Train Epoch: 2 [19200/20438 (94%)]\tLoss: 0.000000\n",
      "Train Epoch: 2 [19400/20438 (95%)]\tLoss: 0.000000\n",
      "Train Epoch: 2 [19600/20438 (96%)]\tLoss: 0.000000\n",
      "Train Epoch: 2 [19800/20438 (97%)]\tLoss: 0.000000\n",
      "Train Epoch: 2 [20000/20438 (98%)]\tLoss: 0.000000\n",
      "Train Epoch: 2 [20200/20438 (99%)]\tLoss: 0.000000\n",
      "Train Epoch: 2 [20400/20438 (100%)]\tLoss: 0.000000\n"
     ]
    },
    {
     "data": {
      "text/plain": "0it [00:00, ?it/s]",
      "application/vnd.jupyter.widget-view+json": {
       "version_major": 2,
       "version_minor": 0,
       "model_id": "170f8836942340fab881dcc22abcbe2f"
      }
     },
     "metadata": {},
     "output_type": "display_data"
    },
    {
     "name": "stdout",
     "output_type": "stream",
     "text": [
      "Train Epoch: 3 [0/20438 (0%)]\tLoss: 0.000000\n",
      "Train Epoch: 3 [200/20438 (1%)]\tLoss: 0.000000\n",
      "Train Epoch: 3 [400/20438 (2%)]\tLoss: 0.000000\n",
      "Train Epoch: 3 [600/20438 (3%)]\tLoss: 0.000000\n",
      "Train Epoch: 3 [800/20438 (4%)]\tLoss: 0.000000\n",
      "Train Epoch: 3 [1000/20438 (5%)]\tLoss: 0.000000\n",
      "Train Epoch: 3 [1200/20438 (6%)]\tLoss: 0.000000\n",
      "Train Epoch: 3 [1400/20438 (7%)]\tLoss: 0.000000\n",
      "Train Epoch: 3 [1600/20438 (8%)]\tLoss: 0.000000\n",
      "Train Epoch: 3 [1800/20438 (9%)]\tLoss: 0.000000\n",
      "Train Epoch: 3 [2000/20438 (10%)]\tLoss: 0.000000\n",
      "Train Epoch: 3 [2200/20438 (11%)]\tLoss: 0.000000\n",
      "Train Epoch: 3 [2400/20438 (12%)]\tLoss: 0.000000\n",
      "Train Epoch: 3 [2600/20438 (13%)]\tLoss: 0.000000\n",
      "Train Epoch: 3 [2800/20438 (14%)]\tLoss: 0.000000\n",
      "Train Epoch: 3 [3000/20438 (15%)]\tLoss: 0.000000\n",
      "Train Epoch: 3 [3200/20438 (16%)]\tLoss: 0.000000\n",
      "Train Epoch: 3 [3400/20438 (17%)]\tLoss: 0.000000\n",
      "Train Epoch: 3 [3600/20438 (18%)]\tLoss: 0.000000\n",
      "Train Epoch: 3 [3800/20438 (19%)]\tLoss: 0.000000\n",
      "Train Epoch: 3 [4000/20438 (20%)]\tLoss: 0.000000\n",
      "Train Epoch: 3 [4200/20438 (21%)]\tLoss: 0.000000\n",
      "Train Epoch: 3 [4400/20438 (22%)]\tLoss: 0.000000\n",
      "Train Epoch: 3 [4600/20438 (23%)]\tLoss: 0.000000\n",
      "Train Epoch: 3 [4800/20438 (23%)]\tLoss: 0.000000\n",
      "Train Epoch: 3 [5000/20438 (24%)]\tLoss: 0.000000\n",
      "Train Epoch: 3 [5200/20438 (25%)]\tLoss: 0.000000\n",
      "Train Epoch: 3 [5400/20438 (26%)]\tLoss: 0.000000\n",
      "Train Epoch: 3 [5600/20438 (27%)]\tLoss: 0.000000\n",
      "Train Epoch: 3 [5800/20438 (28%)]\tLoss: 0.000000\n",
      "Train Epoch: 3 [6000/20438 (29%)]\tLoss: 0.000000\n",
      "Train Epoch: 3 [6200/20438 (30%)]\tLoss: 0.000000\n",
      "Train Epoch: 3 [6400/20438 (31%)]\tLoss: 0.000000\n",
      "Train Epoch: 3 [6600/20438 (32%)]\tLoss: 0.000000\n",
      "Train Epoch: 3 [6800/20438 (33%)]\tLoss: 0.000000\n",
      "Train Epoch: 3 [7000/20438 (34%)]\tLoss: 0.000000\n",
      "Train Epoch: 3 [7200/20438 (35%)]\tLoss: 0.000000\n",
      "Train Epoch: 3 [7400/20438 (36%)]\tLoss: 0.000000\n",
      "Train Epoch: 3 [7600/20438 (37%)]\tLoss: 0.000000\n",
      "Train Epoch: 3 [7800/20438 (38%)]\tLoss: 0.000000\n",
      "Train Epoch: 3 [8000/20438 (39%)]\tLoss: 0.000000\n",
      "Train Epoch: 3 [8200/20438 (40%)]\tLoss: 0.000000\n",
      "Train Epoch: 3 [8400/20438 (41%)]\tLoss: 0.000000\n",
      "Train Epoch: 3 [8600/20438 (42%)]\tLoss: 0.000000\n",
      "Train Epoch: 3 [8800/20438 (43%)]\tLoss: 0.000000\n",
      "Train Epoch: 3 [9000/20438 (44%)]\tLoss: 0.000000\n",
      "Train Epoch: 3 [9200/20438 (45%)]\tLoss: 0.000000\n",
      "Train Epoch: 3 [9400/20438 (46%)]\tLoss: 0.000000\n",
      "Train Epoch: 3 [9600/20438 (47%)]\tLoss: 0.000000\n",
      "Train Epoch: 3 [9800/20438 (48%)]\tLoss: 0.000000\n",
      "Train Epoch: 3 [10000/20438 (49%)]\tLoss: 0.000000\n",
      "Train Epoch: 3 [10200/20438 (50%)]\tLoss: 0.000000\n",
      "Train Epoch: 3 [10400/20438 (51%)]\tLoss: 0.000000\n",
      "Train Epoch: 3 [10600/20438 (52%)]\tLoss: 0.000000\n",
      "Train Epoch: 3 [10800/20438 (53%)]\tLoss: 0.000000\n",
      "Train Epoch: 3 [11000/20438 (54%)]\tLoss: 0.000000\n",
      "Train Epoch: 3 [11200/20438 (55%)]\tLoss: 0.000000\n",
      "Train Epoch: 3 [11400/20438 (56%)]\tLoss: 0.000000\n",
      "Train Epoch: 3 [11600/20438 (57%)]\tLoss: 0.000000\n",
      "Train Epoch: 3 [11800/20438 (58%)]\tLoss: 0.000000\n",
      "Train Epoch: 3 [12000/20438 (59%)]\tLoss: 0.000000\n",
      "Train Epoch: 3 [12200/20438 (60%)]\tLoss: 0.000000\n",
      "Train Epoch: 3 [12400/20438 (61%)]\tLoss: 0.000000\n",
      "Train Epoch: 3 [12600/20438 (62%)]\tLoss: 0.000000\n",
      "Train Epoch: 3 [12800/20438 (63%)]\tLoss: 0.000000\n",
      "Train Epoch: 3 [13000/20438 (64%)]\tLoss: 0.000000\n",
      "Train Epoch: 3 [13200/20438 (65%)]\tLoss: 0.000000\n",
      "Train Epoch: 3 [13400/20438 (66%)]\tLoss: 0.000000\n",
      "Train Epoch: 3 [13600/20438 (67%)]\tLoss: 0.000000\n",
      "Train Epoch: 3 [13800/20438 (68%)]\tLoss: 0.000000\n",
      "Train Epoch: 3 [14000/20438 (68%)]\tLoss: 0.000000\n",
      "Train Epoch: 3 [14200/20438 (69%)]\tLoss: 0.000000\n",
      "Train Epoch: 3 [14400/20438 (70%)]\tLoss: 0.000000\n",
      "Train Epoch: 3 [14600/20438 (71%)]\tLoss: 0.000000\n",
      "Train Epoch: 3 [14800/20438 (72%)]\tLoss: 0.000000\n",
      "Train Epoch: 3 [15000/20438 (73%)]\tLoss: 0.000000\n",
      "Train Epoch: 3 [15200/20438 (74%)]\tLoss: 0.000000\n",
      "Train Epoch: 3 [15400/20438 (75%)]\tLoss: 0.000000\n",
      "Train Epoch: 3 [15600/20438 (76%)]\tLoss: 0.000000\n",
      "Train Epoch: 3 [15800/20438 (77%)]\tLoss: 0.000000\n",
      "Train Epoch: 3 [16000/20438 (78%)]\tLoss: 0.000000\n",
      "Train Epoch: 3 [16200/20438 (79%)]\tLoss: 0.000000\n",
      "Train Epoch: 3 [16400/20438 (80%)]\tLoss: 0.000000\n",
      "Train Epoch: 3 [16600/20438 (81%)]\tLoss: 0.000000\n",
      "Train Epoch: 3 [16800/20438 (82%)]\tLoss: 0.000000\n",
      "Train Epoch: 3 [17000/20438 (83%)]\tLoss: 0.000000\n",
      "Train Epoch: 3 [17200/20438 (84%)]\tLoss: 0.000000\n",
      "Train Epoch: 3 [17400/20438 (85%)]\tLoss: 0.000000\n",
      "Train Epoch: 3 [17600/20438 (86%)]\tLoss: 0.000000\n",
      "Train Epoch: 3 [17800/20438 (87%)]\tLoss: 0.000000\n",
      "Train Epoch: 3 [18000/20438 (88%)]\tLoss: 0.000000\n",
      "Train Epoch: 3 [18200/20438 (89%)]\tLoss: 0.000000\n",
      "Train Epoch: 3 [18400/20438 (90%)]\tLoss: 0.000000\n",
      "Train Epoch: 3 [18600/20438 (91%)]\tLoss: 0.000000\n",
      "Train Epoch: 3 [18800/20438 (92%)]\tLoss: 0.000000\n",
      "Train Epoch: 3 [19000/20438 (93%)]\tLoss: 0.000000\n",
      "Train Epoch: 3 [19200/20438 (94%)]\tLoss: 0.000000\n",
      "Train Epoch: 3 [19400/20438 (95%)]\tLoss: 0.000000\n",
      "Train Epoch: 3 [19600/20438 (96%)]\tLoss: 0.000000\n",
      "Train Epoch: 3 [19800/20438 (97%)]\tLoss: 0.000000\n",
      "Train Epoch: 3 [20000/20438 (98%)]\tLoss: 0.000000\n",
      "Train Epoch: 3 [20200/20438 (99%)]\tLoss: 0.000000\n",
      "Train Epoch: 3 [20400/20438 (100%)]\tLoss: 0.000000\n"
     ]
    },
    {
     "data": {
      "text/plain": "0it [00:00, ?it/s]",
      "application/vnd.jupyter.widget-view+json": {
       "version_major": 2,
       "version_minor": 0,
       "model_id": "1904439366bc4e969f9ea9cae8f83b85"
      }
     },
     "metadata": {},
     "output_type": "display_data"
    },
    {
     "name": "stdout",
     "output_type": "stream",
     "text": [
      "Train Epoch: 4 [0/20438 (0%)]\tLoss: 0.000000\n",
      "Train Epoch: 4 [200/20438 (1%)]\tLoss: 0.000000\n",
      "Train Epoch: 4 [400/20438 (2%)]\tLoss: 0.000000\n",
      "Train Epoch: 4 [600/20438 (3%)]\tLoss: 0.000000\n",
      "Train Epoch: 4 [800/20438 (4%)]\tLoss: 0.000000\n",
      "Train Epoch: 4 [1000/20438 (5%)]\tLoss: 0.000000\n",
      "Train Epoch: 4 [1200/20438 (6%)]\tLoss: 0.000000\n",
      "Train Epoch: 4 [1400/20438 (7%)]\tLoss: 0.000000\n",
      "Train Epoch: 4 [1600/20438 (8%)]\tLoss: 0.000000\n",
      "Train Epoch: 4 [1800/20438 (9%)]\tLoss: 0.000000\n",
      "Train Epoch: 4 [2000/20438 (10%)]\tLoss: 0.000000\n",
      "Train Epoch: 4 [2200/20438 (11%)]\tLoss: 0.000000\n",
      "Train Epoch: 4 [2400/20438 (12%)]\tLoss: 0.000000\n",
      "Train Epoch: 4 [2600/20438 (13%)]\tLoss: 0.000000\n",
      "Train Epoch: 4 [2800/20438 (14%)]\tLoss: 0.000000\n",
      "Train Epoch: 4 [3000/20438 (15%)]\tLoss: 0.000000\n",
      "Train Epoch: 4 [3200/20438 (16%)]\tLoss: 0.000000\n",
      "Train Epoch: 4 [3400/20438 (17%)]\tLoss: 0.000000\n",
      "Train Epoch: 4 [3600/20438 (18%)]\tLoss: 0.000000\n",
      "Train Epoch: 4 [3800/20438 (19%)]\tLoss: 0.000000\n",
      "Train Epoch: 4 [4000/20438 (20%)]\tLoss: 0.000000\n",
      "Train Epoch: 4 [4200/20438 (21%)]\tLoss: 0.000000\n",
      "Train Epoch: 4 [4400/20438 (22%)]\tLoss: 0.000000\n",
      "Train Epoch: 4 [4600/20438 (23%)]\tLoss: 0.000000\n",
      "Train Epoch: 4 [4800/20438 (23%)]\tLoss: 0.000000\n",
      "Train Epoch: 4 [5000/20438 (24%)]\tLoss: 0.000000\n",
      "Train Epoch: 4 [5200/20438 (25%)]\tLoss: 0.000000\n",
      "Train Epoch: 4 [5400/20438 (26%)]\tLoss: 0.000000\n",
      "Train Epoch: 4 [5600/20438 (27%)]\tLoss: 0.000000\n",
      "Train Epoch: 4 [5800/20438 (28%)]\tLoss: 0.000000\n",
      "Train Epoch: 4 [6000/20438 (29%)]\tLoss: 0.000000\n",
      "Train Epoch: 4 [6200/20438 (30%)]\tLoss: 0.000000\n",
      "Train Epoch: 4 [6400/20438 (31%)]\tLoss: 0.000000\n",
      "Train Epoch: 4 [6600/20438 (32%)]\tLoss: 0.000000\n",
      "Train Epoch: 4 [6800/20438 (33%)]\tLoss: 0.000000\n",
      "Train Epoch: 4 [7000/20438 (34%)]\tLoss: 0.000000\n",
      "Train Epoch: 4 [7200/20438 (35%)]\tLoss: 0.000000\n",
      "Train Epoch: 4 [7400/20438 (36%)]\tLoss: 0.000000\n",
      "Train Epoch: 4 [7600/20438 (37%)]\tLoss: 0.000000\n",
      "Train Epoch: 4 [7800/20438 (38%)]\tLoss: 0.000000\n",
      "Train Epoch: 4 [8000/20438 (39%)]\tLoss: 0.000000\n",
      "Train Epoch: 4 [8200/20438 (40%)]\tLoss: 0.000000\n",
      "Train Epoch: 4 [8400/20438 (41%)]\tLoss: 0.000000\n",
      "Train Epoch: 4 [8600/20438 (42%)]\tLoss: 0.000000\n",
      "Train Epoch: 4 [8800/20438 (43%)]\tLoss: 0.000000\n",
      "Train Epoch: 4 [9000/20438 (44%)]\tLoss: 0.000000\n",
      "Train Epoch: 4 [9200/20438 (45%)]\tLoss: 0.000000\n",
      "Train Epoch: 4 [9400/20438 (46%)]\tLoss: 0.000000\n",
      "Train Epoch: 4 [9600/20438 (47%)]\tLoss: 0.000000\n",
      "Train Epoch: 4 [9800/20438 (48%)]\tLoss: 0.000000\n",
      "Train Epoch: 4 [10000/20438 (49%)]\tLoss: 0.000000\n",
      "Train Epoch: 4 [10200/20438 (50%)]\tLoss: 0.000000\n",
      "Train Epoch: 4 [10400/20438 (51%)]\tLoss: 0.000000\n",
      "Train Epoch: 4 [10600/20438 (52%)]\tLoss: 0.000000\n",
      "Train Epoch: 4 [10800/20438 (53%)]\tLoss: 0.000000\n",
      "Train Epoch: 4 [11000/20438 (54%)]\tLoss: 0.000000\n",
      "Train Epoch: 4 [11200/20438 (55%)]\tLoss: 0.000000\n",
      "Train Epoch: 4 [11400/20438 (56%)]\tLoss: 0.000000\n",
      "Train Epoch: 4 [11600/20438 (57%)]\tLoss: 0.000000\n",
      "Train Epoch: 4 [11800/20438 (58%)]\tLoss: 0.000000\n",
      "Train Epoch: 4 [12000/20438 (59%)]\tLoss: 0.000000\n",
      "Train Epoch: 4 [12200/20438 (60%)]\tLoss: 0.000000\n",
      "Train Epoch: 4 [12400/20438 (61%)]\tLoss: 0.000000\n",
      "Train Epoch: 4 [12600/20438 (62%)]\tLoss: 0.000000\n",
      "Train Epoch: 4 [12800/20438 (63%)]\tLoss: 0.000000\n",
      "Train Epoch: 4 [13000/20438 (64%)]\tLoss: 0.000000\n",
      "Train Epoch: 4 [13200/20438 (65%)]\tLoss: 0.000000\n",
      "Train Epoch: 4 [13400/20438 (66%)]\tLoss: 0.000000\n",
      "Train Epoch: 4 [13600/20438 (67%)]\tLoss: 0.000000\n",
      "Train Epoch: 4 [13800/20438 (68%)]\tLoss: 0.000000\n",
      "Train Epoch: 4 [14000/20438 (68%)]\tLoss: 0.000000\n",
      "Train Epoch: 4 [14200/20438 (69%)]\tLoss: 0.000000\n",
      "Train Epoch: 4 [14400/20438 (70%)]\tLoss: 0.000000\n",
      "Train Epoch: 4 [14600/20438 (71%)]\tLoss: 0.000000\n",
      "Train Epoch: 4 [14800/20438 (72%)]\tLoss: 0.000000\n",
      "Train Epoch: 4 [15000/20438 (73%)]\tLoss: 0.000000\n",
      "Train Epoch: 4 [15200/20438 (74%)]\tLoss: 0.000000\n",
      "Train Epoch: 4 [15400/20438 (75%)]\tLoss: 0.000000\n",
      "Train Epoch: 4 [15600/20438 (76%)]\tLoss: 0.000000\n",
      "Train Epoch: 4 [15800/20438 (77%)]\tLoss: 0.000000\n",
      "Train Epoch: 4 [16000/20438 (78%)]\tLoss: 0.000000\n",
      "Train Epoch: 4 [16200/20438 (79%)]\tLoss: 0.000000\n",
      "Train Epoch: 4 [16400/20438 (80%)]\tLoss: 0.000000\n",
      "Train Epoch: 4 [16600/20438 (81%)]\tLoss: 0.000000\n",
      "Train Epoch: 4 [16800/20438 (82%)]\tLoss: 0.000000\n",
      "Train Epoch: 4 [17000/20438 (83%)]\tLoss: 0.000000\n",
      "Train Epoch: 4 [17200/20438 (84%)]\tLoss: 0.000000\n",
      "Train Epoch: 4 [17400/20438 (85%)]\tLoss: 0.000000\n",
      "Train Epoch: 4 [17600/20438 (86%)]\tLoss: 0.000000\n",
      "Train Epoch: 4 [17800/20438 (87%)]\tLoss: 0.000000\n",
      "Train Epoch: 4 [18000/20438 (88%)]\tLoss: 0.000000\n",
      "Train Epoch: 4 [18200/20438 (89%)]\tLoss: 0.000000\n",
      "Train Epoch: 4 [18400/20438 (90%)]\tLoss: 0.000000\n",
      "Train Epoch: 4 [18600/20438 (91%)]\tLoss: 0.000000\n",
      "Train Epoch: 4 [18800/20438 (92%)]\tLoss: 0.000000\n",
      "Train Epoch: 4 [19000/20438 (93%)]\tLoss: 0.000000\n",
      "Train Epoch: 4 [19200/20438 (94%)]\tLoss: 0.000000\n",
      "Train Epoch: 4 [19400/20438 (95%)]\tLoss: 0.000000\n",
      "Train Epoch: 4 [19600/20438 (96%)]\tLoss: 0.000000\n",
      "Train Epoch: 4 [19800/20438 (97%)]\tLoss: 0.000000\n",
      "Train Epoch: 4 [20000/20438 (98%)]\tLoss: 0.000000\n",
      "Train Epoch: 4 [20200/20438 (99%)]\tLoss: 0.000000\n",
      "Train Epoch: 4 [20400/20438 (100%)]\tLoss: 0.000000\n"
     ]
    }
   ],
   "source": [
    "#Test the trainer\n",
    "train(Model, Train_loader, Target, Loss, Optimizer, 5)"
   ],
   "metadata": {
    "collapsed": false,
    "pycharm": {
     "name": "#%%\n"
    }
   }
  },
  {
   "cell_type": "code",
   "execution_count": 97,
   "outputs": [],
   "source": [
    "#Test the model\n",
    "def test(Model, Test_loader, Loss):\n",
    "    Model.eval()\n",
    "    test_loss = 0\n",
    "    correct = 0\n",
    "    with torch.no_grad():\n",
    "        for sample in tqdm(Test_loader):\n",
    "            #data, target = sample['data'].cuda(), sample['target'].cuda()\n",
    "            data = sample.cuda()\n",
    "            output = Model(data.float())\n",
    "            test_loss += Loss(output, Target).item()  # sum up batch loss\n",
    "            pred = output.argmax(dim=1, keepdim=True)  # get the index of the max log-probability\n",
    "            correct += pred.eq(Target.view_as(pred)).sum().item()\n",
    "\n",
    "    test_loss /= len(Test_loader.dataset)\n",
    "\n",
    "    print('\\nTest set: Average loss: {:.4f}, Accuracy: {}/{} ({:.0f}%)\\n'.format(\n",
    "        test_loss, correct, len(Test_loader.dataset),\n",
    "        100. * correct / len(Test_loader.dataset)))"
   ],
   "metadata": {
    "collapsed": false,
    "pycharm": {
     "name": "#%%\n"
    }
   }
  },
  {
   "cell_type": "code",
   "execution_count": null,
   "outputs": [],
   "source": [],
   "metadata": {
    "collapsed": false,
    "pycharm": {
     "name": "#%%\n"
    }
   }
  },
  {
   "cell_type": "code",
   "execution_count": 98,
   "outputs": [
    {
     "data": {
      "text/plain": "  0%|          | 0/2555 [00:00<?, ?it/s]",
      "application/vnd.jupyter.widget-view+json": {
       "version_major": 2,
       "version_minor": 0,
       "model_id": "c5e4b2368e3c4d5ba045c4ddecb91890"
      }
     },
     "metadata": {},
     "output_type": "display_data"
    },
    {
     "name": "stdout",
     "output_type": "stream",
     "text": [
      "\n",
      "Test set: Average loss: 0.0000, Accuracy: 5110/5110 (100%)\n",
      "\n"
     ]
    }
   ],
   "source": [
    "#Test the tester\n",
    "test(Model, Test_loader, Loss)"
   ],
   "metadata": {
    "collapsed": false,
    "pycharm": {
     "name": "#%%\n"
    }
   }
  },
  {
   "cell_type": "code",
   "execution_count": null,
   "outputs": [],
   "source": [],
   "metadata": {
    "collapsed": false,
    "pycharm": {
     "name": "#%%\n"
    }
   }
  },
  {
   "cell_type": "markdown",
   "source": [
    "# **5. Resultados**"
   ],
   "metadata": {
    "collapsed": false,
    "pycharm": {
     "name": "#%% md\n"
    }
   }
  },
  {
   "cell_type": "markdown",
   "source": [
    "# **6. Discusión**\n",
    "Underfitting, overfitting, o no y el porqué\n",
    "Comparación de su metodología con literatura asociada"
   ],
   "metadata": {
    "collapsed": false,
    "pycharm": {
     "name": "#%% md\n"
    }
   }
  },
  {
   "cell_type": "markdown",
   "source": [
    "# **7. Conclusiones**\n",
    "(100-300 palabras)."
   ],
   "metadata": {
    "id": "8Gb2ac0VSryX",
    "pycharm": {
     "name": "#%% md\n"
    }
   }
  },
  {
   "cell_type": "markdown",
   "source": [
    "# **8. Referencias**\n",
    "\n",
    "[1] Pb, V. (2020, February 18). Perceptron. Kaggle. Retrieved June 1, 2022, from https://www.kaggle.com/code/prashfio/perceptron/notebook"
   ],
   "metadata": {
    "id": "cxRqAiW5sG_m",
    "pycharm": {
     "name": "#%% md\n"
    }
   }
  }
 ]
}