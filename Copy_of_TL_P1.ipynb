{
 "nbformat": 4,
 "nbformat_minor": 0,
 "metadata": {
  "colab": {
   "provenance": [],
   "collapsed_sections": []
  },
  "kernelspec": {
   "name": "python3",
   "display_name": "Python 3"
  },
  "language_info": {
   "name": "python"
  },
  "accelerator": "GPU",
  "gpuClass": "standard"
 },
 "cells": [
  {
   "cell_type": "markdown",
   "source": [
    "# **Práctica #1: Modelo para predicción de lluvia**\n",
    "\n",
    "*Centro Universitario de Ciencias Exactas e Ingenierías*\n",
    "\n",
    "*División de Tecnologías para la Integración Ciber-Humana*\n",
    "\n",
    "*Ingeniería Biomédica*\n",
    "\n",
    "<br>\n",
    "\n",
    "*Mtra. Sofía Alejandra Aguilar Valdez*\n",
    "\n",
    "2 de septiembre de 2022"
   ],
   "metadata": {
    "id": "nVx-kou4pjFk",
    "pycharm": {
     "name": "#%% md\n"
    }
   }
  },
  {
   "cell_type": "markdown",
   "source": [
    "## **Información del equipo**\n",
    "\n",
    "```NOMBRES:``` \\\\\n",
    "Victor Alvarado Aparicio \\\\\n",
    "Dayana Analy Pacheco Bañuelos \\\\\n",
    "Leonardo Juàrez Zucco\n",
    "\n",
    "```CÓDIGOS:``` \\\\\n",
    "215767685 \\\\\n",
    "######### \\\\\n",
    "220285869\n",
    "\n",
    "```LINK REPOSITORIO:``` https://github.com/L-Rittmeister/U1_Team.git\n",
    "\n"
   ],
   "metadata": {
    "id": "dQNzG9Wm4ZQJ",
    "pycharm": {
     "name": "#%% md\n"
    }
   }
  },
  {
   "cell_type": "markdown",
   "source": [
    "## **Contenido**\n",
    "\n",
    "\n",
    "\n",
    "1.   Resumen\n",
    "2.   Marco teórico\n",
    "3.   Objetivos\n",
    "4.   Materiales y métodos\n",
    "5.   Resultados\n",
    "6.   Discusión\n",
    "7.   Conclusiones\n",
    "8.   Referencias\n",
    "\n"
   ],
   "metadata": {
    "id": "QQ_tQMMJpude",
    "pycharm": {
     "name": "#%% md\n"
    }
   }
  },
  {
   "cell_type": "markdown",
   "source": [
    "# **1. Resumen**\n",
    "(100-300 palabras)"
   ],
   "metadata": {
    "id": "anvzyOk06GH5",
    "pycharm": {
     "name": "#%% md\n"
    }
   }
  },
  {
   "cell_type": "markdown",
   "source": [
    "# **2. Marco teórico**\n",
    "(300-800 palabras)"
   ],
   "metadata": {
    "id": "E8r4C9H26UTK",
    "pycharm": {
     "name": "#%% md\n"
    }
   }
  },
  {
   "cell_type": "markdown",
   "source": [
    "# **3. Objetivos**\n",
    "Objetivo general y objetivos específicos"
   ],
   "metadata": {
    "id": "Tcx3QvQN6hWe",
    "pycharm": {
     "name": "#%% md\n"
    }
   }
  },
  {
   "cell_type": "markdown",
   "source": [
    "# **4. Materiales y métodos**\n",
    "\n",
    "## *Materiales*\n",
    "\n",
    "Describir este conjunto de datos [[1]](https://www.kaggle.com/code/fatmakursun/rain-forecasting-with-artificial-neural-network/data).\n",
    "\n",
    "## *Métodos*\n",
    "\n",
    "1. Esquema de metodología\n",
    "2. Descripción de los métodos y su implementación en código en forma de narrativa."
   ],
   "metadata": {
    "id": "4rX1w4ZD6mPj",
    "pycharm": {
     "name": "#%% md\n"
    }
   }
  },
  {
   "cell_type": "code",
   "source": [
    "# Mount Google Drive\n",
    "#from google.colab import drive\n",
    "#drive.mount('/content/drive')"
   ],
   "metadata": {
    "colab": {
     "base_uri": "https://localhost:8080/"
    },
    "id": "Q4vifyfcnWi8",
    "outputId": "efaa1931-50e4-43e0-bd3e-8753f70d9868",
    "pycharm": {
     "name": "#%%\n"
    }
   },
   "execution_count": null,
   "outputs": [
    {
     "output_type": "stream",
     "name": "stdout",
     "text": [
      "Mounted at /content/drive\n"
     ]
    }
   ]
  },
  {
   "cell_type": "code",
   "source": [
    "# Bibliotecas\n",
    "import pandas as pd\n",
    "import numpy as np\n",
    "from numpy import sqrt\n",
    "from numpy import vstack\n",
    "import matplotlib.pyplot as plt\n",
    "import seaborn as sns\n",
    "import random\n",
    "from sklearn.preprocessing import StandardScaler\n",
    "from sklearn.metrics import accuracy_score, mean_squared_error, confusion_matrix, classification_report\n",
    "from sklearn.metrics import roc_curve\n",
    "from tqdm.notebook import trange, tqdm\n",
    "import time\n",
    "import torch\n",
    "from torch import nn\n",
    "from torch.nn.functional import normalize\n",
    "from torchvision import datasets, transforms\n",
    "import torch.utils.data as data\n",
    "from torch.utils.data import Dataset\n",
    "import torch.nn.functional as F\n",
    "from torch import optim\n",
    "from torch.optim import SGD\n",
    "from torchvision import datasets, transforms\n",
    "from torch.utils.data import random_split, DataLoader\n",
    "from torch.nn.modules.activation import ReLU\n",
    "from torch.nn.init import kaiming_uniform_\n",
    "from torch.nn.init import xavier_uniform_"
   ],
   "metadata": {
    "id": "_0Fnd_SX-hHi",
    "pycharm": {
     "name": "#%%\n"
    }
   },
   "execution_count": 1,
   "outputs": [
    {
     "ename": "ModuleNotFoundError",
     "evalue": "No module named 'tqdm'",
     "output_type": "error",
     "traceback": [
      "\u001B[1;31m---------------------------------------------------------------------------\u001B[0m",
      "\u001B[1;31mModuleNotFoundError\u001B[0m                       Traceback (most recent call last)",
      "Input \u001B[1;32mIn [1]\u001B[0m, in \u001B[0;36m<cell line: 12>\u001B[1;34m()\u001B[0m\n\u001B[0;32m     10\u001B[0m \u001B[38;5;28;01mfrom\u001B[39;00m \u001B[38;5;21;01msklearn\u001B[39;00m\u001B[38;5;21;01m.\u001B[39;00m\u001B[38;5;21;01mmetrics\u001B[39;00m \u001B[38;5;28;01mimport\u001B[39;00m accuracy_score, mean_squared_error, confusion_matrix, classification_report\n\u001B[0;32m     11\u001B[0m \u001B[38;5;28;01mfrom\u001B[39;00m \u001B[38;5;21;01msklearn\u001B[39;00m\u001B[38;5;21;01m.\u001B[39;00m\u001B[38;5;21;01mmetrics\u001B[39;00m \u001B[38;5;28;01mimport\u001B[39;00m roc_curve\n\u001B[1;32m---> 12\u001B[0m \u001B[38;5;28;01mfrom\u001B[39;00m \u001B[38;5;21;01mtqdm\u001B[39;00m\u001B[38;5;21;01m.\u001B[39;00m\u001B[38;5;21;01mnotebook\u001B[39;00m \u001B[38;5;28;01mimport\u001B[39;00m trange, tqdm\n\u001B[0;32m     13\u001B[0m \u001B[38;5;28;01mimport\u001B[39;00m \u001B[38;5;21;01mtime\u001B[39;00m\n\u001B[0;32m     14\u001B[0m \u001B[38;5;28;01mimport\u001B[39;00m \u001B[38;5;21;01mtorch\u001B[39;00m\n",
      "\u001B[1;31mModuleNotFoundError\u001B[0m: No module named 'tqdm'"
     ]
    }
   ]
  },
  {
   "cell_type": "code",
   "source": [
    "torch.randn(5).cuda()"
   ],
   "metadata": {
    "colab": {
     "base_uri": "https://localhost:8080/"
    },
    "id": "qHX258IhurIP",
    "outputId": "eba9a781-6c0f-4301-9924-4d2c36c53af4",
    "pycharm": {
     "name": "#%%\n"
    }
   },
   "execution_count": 3,
   "outputs": [
    {
     "output_type": "execute_result",
     "data": {
      "text/plain": [
       "tensor([ 0.6732,  1.0882,  1.5945, -0.3505,  0.3475], device='cuda:0')"
      ]
     },
     "metadata": {},
     "execution_count": 3
    }
   ]
  },
  {
   "cell_type": "markdown",
   "source": [
    "# **5. Resultados**\n",
    "(300-800 palabras, incluir mínimo 2 figuras)."
   ],
   "metadata": {
    "id": "6s3y9-yUSCL9",
    "pycharm": {
     "name": "#%% md\n"
    }
   }
  },
  {
   "cell_type": "markdown",
   "source": [],
   "metadata": {
    "id": "VFEljDICvDm6",
    "pycharm": {
     "name": "#%% md\n"
    }
   }
  },
  {
   "cell_type": "markdown",
   "source": [
    "# **6. Discusión**\n",
    "Underfitting, overfitting, o no y el porqué\n",
    "Comparación de su metodología con literatura asociada"
   ],
   "metadata": {
    "id": "AEt8aII8SPu6",
    "pycharm": {
     "name": "#%% md\n"
    }
   }
  },
  {
   "cell_type": "markdown",
   "source": [
    "# **7. Conclusiones**\n",
    "(100-300 palabras)."
   ],
   "metadata": {
    "id": "8Gb2ac0VSryX",
    "pycharm": {
     "name": "#%% md\n"
    }
   }
  },
  {
   "cell_type": "markdown",
   "source": [
    "# **8. Referencias**\n",
    "\n",
    "[1] Pb, V. (2020, February 18). Perceptron. Kaggle. Retrieved June 1, 2022, from https://www.kaggle.com/code/prashfio/perceptron/notebook"
   ],
   "metadata": {
    "id": "cxRqAiW5sG_m",
    "pycharm": {
     "name": "#%% md\n"
    }
   }
  }
 ]
}