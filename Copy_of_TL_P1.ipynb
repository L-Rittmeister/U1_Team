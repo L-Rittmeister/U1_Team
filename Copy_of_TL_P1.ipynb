{
 "nbformat": 4,
 "nbformat_minor": 0,
 "metadata": {
  "colab": {
   "provenance": [],
   "collapsed_sections": []
  },
  "kernelspec": {
   "name": "python3",
   "language": "python",
   "display_name": "Python 3 (ipykernel)"
  },
  "language_info": {
   "name": "python"
  },
  "accelerator": "GPU",
  "gpuClass": "standard"
 },
 "cells": [
  {
   "cell_type": "markdown",
   "source": [
    "# **Práctica #1: Modelo para predicción de lluvia**\n",
    "\n",
    "*Centro Universitario de Ciencias Exactas e Ingenierías*\n",
    "\n",
    "*División de Tecnologías para la Integración Ciber-Humana*\n",
    "\n",
    "*Ingeniería Biomédica*\n",
    "\n",
    "<br>\n",
    "\n",
    "*Mtra. Sofía Alejandra Aguilar Valdez*\n",
    "\n",
    "2 de septiembre de 2022"
   ],
   "metadata": {
    "id": "nVx-kou4pjFk",
    "pycharm": {
     "name": "#%% md\n"
    }
   }
  },
  {
   "cell_type": "markdown",
   "source": [
    "## **Información del equipo**\n",
    "\n",
    "```NOMBRES:``` \\\\\n",
    "Victor Alvarado Aparicio \\\\\n",
    "Dayana Analy Pacheco Bañuelos \\\\\n",
    "Leonardo Juàrez Zucco\n",
    "\n",
    "```CÓDIGOS:``` \\\\\n",
    "215767685 \\\\\n",
    "######### \\\\\n",
    "220285869\n",
    "\n",
    "```LINK REPOSITORIO:``` https://github.com/L-Rittmeister/U1_Team.git\n",
    "\n"
   ],
   "metadata": {
    "id": "dQNzG9Wm4ZQJ",
    "pycharm": {
     "name": "#%% md\n"
    }
   }
  },
  {
   "cell_type": "markdown",
   "source": [
    "## **Contenido**\n",
    "\n",
    "\n",
    "\n",
    "1.   Resumen\n",
    "2.   Marco teórico\n",
    "3.   Objetivos\n",
    "4.   Materiales y métodos\n",
    "5.   Resultados\n",
    "6.   Discusión\n",
    "7.   Conclusiones\n",
    "8.   Referencias\n",
    "\n"
   ],
   "metadata": {
    "id": "QQ_tQMMJpude",
    "pycharm": {
     "name": "#%% md\n"
    }
   }
  },
  {
   "cell_type": "markdown",
   "source": [
    "# **1. Resumen**\n",
    "(100-300 palabras)"
   ],
   "metadata": {
    "id": "anvzyOk06GH5",
    "pycharm": {
     "name": "#%% md\n"
    }
   }
  },
  {
   "cell_type": "markdown",
   "source": [
    "# **2. Marco teórico**\n",
    "(300-800 palabras)"
   ],
   "metadata": {
    "id": "E8r4C9H26UTK",
    "pycharm": {
     "name": "#%% md\n"
    }
   }
  },
  {
   "cell_type": "markdown",
   "source": [
    "# **3. Objetivos**\n",
    "Objetivo general y objetivos específicos"
   ],
   "metadata": {
    "id": "Tcx3QvQN6hWe",
    "pycharm": {
     "name": "#%% md\n"
    }
   }
  },
  {
   "cell_type": "markdown",
   "source": [
    "# **4. Materiales y métodos**\n",
    "\n",
    "## *Materiales*\n",
    "\n",
    "Describir este conjunto de datos [[1]](https://www.kaggle.com/code/fatmakursun/rain-forecasting-with-artificial-neural-network/data).\n",
    "\n",
    "## *Métodos*\n",
    "\n",
    "1. Esquema de metodología\n",
    "2. Descripción de los métodos y su implementación en código en forma de narrativa."
   ],
   "metadata": {
    "id": "4rX1w4ZD6mPj",
    "pycharm": {
     "name": "#%% md\n"
    }
   }
  },
  {
   "cell_type": "code",
   "source": [
    "#Mounting drive storage to access data (if needed/running on collab then uncomment)\n",
    "# Mount Google Drive\n",
    "#from google.colab import drive\n",
    "#drive.mount('/content/drive')"
   ],
   "metadata": {
    "colab": {
     "base_uri": "https://localhost:8080/"
    },
    "id": "Q4vifyfcnWi8",
    "outputId": "efaa1931-50e4-43e0-bd3e-8753f70d9868",
    "pycharm": {
     "name": "#%%\n"
    }
   },
   "execution_count": 2,
   "outputs": []
  },
  {
   "cell_type": "code",
   "source": [
    "# Import Libraries\n",
    "import pandas as pd\n",
    "import numpy as np\n",
    "from numpy import sqrt\n",
    "from numpy import vstack\n",
    "import matplotlib.pyplot as plt\n",
    "import seaborn as sns\n",
    "import random\n",
    "from sklearn.preprocessing import StandardScaler\n",
    "from sklearn.metrics import accuracy_score, mean_squared_error, confusion_matrix, classification_report\n",
    "from sklearn.metrics import roc_curve\n",
    "from tqdm.notebook import trange, tqdm\n",
    "import time\n",
    "import torch\n",
    "from torch import nn\n",
    "from torch.nn.functional import normalize\n",
    "from torchvision import datasets, transforms\n",
    "import torch.utils.data as data\n",
    "from torch.utils.data import Dataset\n",
    "import torch.nn.functional as F\n",
    "from torch import optim\n",
    "from torch.optim import SGD\n",
    "from torchvision import datasets, transforms\n",
    "from torch.utils.data import random_split, DataLoader\n",
    "from torch.nn.modules.activation import ReLU\n",
    "from torch.nn.init import kaiming_uniform_\n",
    "from torch.nn.init import xavier_uniform_"
   ],
   "metadata": {
    "id": "_0Fnd_SX-hHi",
    "pycharm": {
     "name": "#%%\n"
    }
   },
   "execution_count": 3,
   "outputs": []
  },
  {
   "cell_type": "code",
   "source": [
    "#Pytorch and CUDA installation test\n",
    "torch.randn(5).cuda()"
   ],
   "metadata": {
    "colab": {
     "base_uri": "https://localhost:8080/"
    },
    "id": "qHX258IhurIP",
    "outputId": "eba9a781-6c0f-4301-9924-4d2c36c53af4",
    "pycharm": {
     "name": "#%%\n"
    }
   },
   "execution_count": 4,
   "outputs": [
    {
     "data": {
      "text/plain": "tensor([-0.1085,  0.2888,  1.9000, -1.8322,  0.1047], device='cuda:0')"
     },
     "execution_count": 4,
     "metadata": {},
     "output_type": "execute_result"
    }
   ]
  },
  {
   "cell_type": "code",
   "execution_count": 5,
   "outputs": [
    {
     "data": {
      "text/plain": "             DATE  PRCP  TMAX  TMIN   RAIN\n0      1948-01-01  0.47    51    42   True\n1      1948-01-02  0.59    45    36   True\n2      1948-01-03  0.42    45    35   True\n3      1948-01-04  0.31    45    34   True\n4      1948-01-05  0.17    45    32   True\n...           ...   ...   ...   ...    ...\n25546  2017-12-10  0.00    49    34  False\n25547  2017-12-11  0.00    49    29  False\n25548  2017-12-12  0.00    46    32  False\n25549  2017-12-13  0.00    48    34  False\n25550  2017-12-14  0.00    50    36  False\n\n[25551 rows x 5 columns]",
      "text/html": "<div>\n<style scoped>\n    .dataframe tbody tr th:only-of-type {\n        vertical-align: middle;\n    }\n\n    .dataframe tbody tr th {\n        vertical-align: top;\n    }\n\n    .dataframe thead th {\n        text-align: right;\n    }\n</style>\n<table border=\"1\" class=\"dataframe\">\n  <thead>\n    <tr style=\"text-align: right;\">\n      <th></th>\n      <th>DATE</th>\n      <th>PRCP</th>\n      <th>TMAX</th>\n      <th>TMIN</th>\n      <th>RAIN</th>\n    </tr>\n  </thead>\n  <tbody>\n    <tr>\n      <th>0</th>\n      <td>1948-01-01</td>\n      <td>0.47</td>\n      <td>51</td>\n      <td>42</td>\n      <td>True</td>\n    </tr>\n    <tr>\n      <th>1</th>\n      <td>1948-01-02</td>\n      <td>0.59</td>\n      <td>45</td>\n      <td>36</td>\n      <td>True</td>\n    </tr>\n    <tr>\n      <th>2</th>\n      <td>1948-01-03</td>\n      <td>0.42</td>\n      <td>45</td>\n      <td>35</td>\n      <td>True</td>\n    </tr>\n    <tr>\n      <th>3</th>\n      <td>1948-01-04</td>\n      <td>0.31</td>\n      <td>45</td>\n      <td>34</td>\n      <td>True</td>\n    </tr>\n    <tr>\n      <th>4</th>\n      <td>1948-01-05</td>\n      <td>0.17</td>\n      <td>45</td>\n      <td>32</td>\n      <td>True</td>\n    </tr>\n    <tr>\n      <th>...</th>\n      <td>...</td>\n      <td>...</td>\n      <td>...</td>\n      <td>...</td>\n      <td>...</td>\n    </tr>\n    <tr>\n      <th>25546</th>\n      <td>2017-12-10</td>\n      <td>0.00</td>\n      <td>49</td>\n      <td>34</td>\n      <td>False</td>\n    </tr>\n    <tr>\n      <th>25547</th>\n      <td>2017-12-11</td>\n      <td>0.00</td>\n      <td>49</td>\n      <td>29</td>\n      <td>False</td>\n    </tr>\n    <tr>\n      <th>25548</th>\n      <td>2017-12-12</td>\n      <td>0.00</td>\n      <td>46</td>\n      <td>32</td>\n      <td>False</td>\n    </tr>\n    <tr>\n      <th>25549</th>\n      <td>2017-12-13</td>\n      <td>0.00</td>\n      <td>48</td>\n      <td>34</td>\n      <td>False</td>\n    </tr>\n    <tr>\n      <th>25550</th>\n      <td>2017-12-14</td>\n      <td>0.00</td>\n      <td>50</td>\n      <td>36</td>\n      <td>False</td>\n    </tr>\n  </tbody>\n</table>\n<p>25551 rows × 5 columns</p>\n</div>"
     },
     "execution_count": 5,
     "metadata": {},
     "output_type": "execute_result"
    }
   ],
   "source": [
    "#Load the dataset on a pandas dataframe\n",
    "Data = pd.read_csv(\"seattleWeather_1948-2017.csv\")\n",
    "Data"
   ],
   "metadata": {
    "collapsed": false,
    "pycharm": {
     "name": "#%%\n"
    }
   }
  },
  {
   "cell_type": "code",
   "execution_count": 7,
   "outputs": [
    {
     "name": "stderr",
     "output_type": "stream",
     "text": [
      "C:\\Users\\Lordleojz\\AppData\\Local\\Temp\\ipykernel_26248\\4122486251.py:2: SettingWithCopyWarning: \n",
      "A value is trying to be set on a copy of a slice from a DataFrame\n",
      "\n",
      "See the caveats in the documentation: https://pandas.pydata.org/pandas-docs/stable/user_guide/indexing.html#returning-a-view-versus-a-copy\n",
      "  Data.dropna(inplace=True)\n"
     ]
    }
   ],
   "source": [
    "#Drop NaN value\n",
    "Data.dropna(inplace=True)\n",
    "Data.reset_index(inplace=True, drop=True)"
   ],
   "metadata": {
    "collapsed": false,
    "pycharm": {
     "name": "#%%\n"
    }
   }
  },
  {
   "cell_type": "code",
   "execution_count": 8,
   "outputs": [
    {
     "data": {
      "text/plain": "       PRCP  TMAX  TMIN   RAIN\n0      0.47    51    42   True\n1      0.59    45    36   True\n2      0.42    45    35   True\n3      0.31    45    34   True\n4      0.17    45    32   True\n...     ...   ...   ...    ...\n25543  0.00    49    34  False\n25544  0.00    49    29  False\n25545  0.00    46    32  False\n25546  0.00    48    34  False\n25547  0.00    50    36  False\n\n[25548 rows x 4 columns]",
      "text/html": "<div>\n<style scoped>\n    .dataframe tbody tr th:only-of-type {\n        vertical-align: middle;\n    }\n\n    .dataframe tbody tr th {\n        vertical-align: top;\n    }\n\n    .dataframe thead th {\n        text-align: right;\n    }\n</style>\n<table border=\"1\" class=\"dataframe\">\n  <thead>\n    <tr style=\"text-align: right;\">\n      <th></th>\n      <th>PRCP</th>\n      <th>TMAX</th>\n      <th>TMIN</th>\n      <th>RAIN</th>\n    </tr>\n  </thead>\n  <tbody>\n    <tr>\n      <th>0</th>\n      <td>0.47</td>\n      <td>51</td>\n      <td>42</td>\n      <td>True</td>\n    </tr>\n    <tr>\n      <th>1</th>\n      <td>0.59</td>\n      <td>45</td>\n      <td>36</td>\n      <td>True</td>\n    </tr>\n    <tr>\n      <th>2</th>\n      <td>0.42</td>\n      <td>45</td>\n      <td>35</td>\n      <td>True</td>\n    </tr>\n    <tr>\n      <th>3</th>\n      <td>0.31</td>\n      <td>45</td>\n      <td>34</td>\n      <td>True</td>\n    </tr>\n    <tr>\n      <th>4</th>\n      <td>0.17</td>\n      <td>45</td>\n      <td>32</td>\n      <td>True</td>\n    </tr>\n    <tr>\n      <th>...</th>\n      <td>...</td>\n      <td>...</td>\n      <td>...</td>\n      <td>...</td>\n    </tr>\n    <tr>\n      <th>25543</th>\n      <td>0.00</td>\n      <td>49</td>\n      <td>34</td>\n      <td>False</td>\n    </tr>\n    <tr>\n      <th>25544</th>\n      <td>0.00</td>\n      <td>49</td>\n      <td>29</td>\n      <td>False</td>\n    </tr>\n    <tr>\n      <th>25545</th>\n      <td>0.00</td>\n      <td>46</td>\n      <td>32</td>\n      <td>False</td>\n    </tr>\n    <tr>\n      <th>25546</th>\n      <td>0.00</td>\n      <td>48</td>\n      <td>34</td>\n      <td>False</td>\n    </tr>\n    <tr>\n      <th>25547</th>\n      <td>0.00</td>\n      <td>50</td>\n      <td>36</td>\n      <td>False</td>\n    </tr>\n  </tbody>\n</table>\n<p>25548 rows × 4 columns</p>\n</div>"
     },
     "execution_count": 8,
     "metadata": {},
     "output_type": "execute_result"
    }
   ],
   "source": [
    "#Create a n array with the values of PRCP, TMAX, TMIN, and RAIN\n",
    "Data = Data[['PRCP', 'TMAX', 'TMIN', 'RAIN']]\n",
    "Data"
   ],
   "metadata": {
    "collapsed": false,
    "pycharm": {
     "name": "#%%\n"
    }
   }
  },
  {
   "cell_type": "code",
   "execution_count": 9,
   "outputs": [
    {
     "data": {
      "text/plain": "       PRCP  TMAX  TMIN   RAIN\n0      0.47    51    42   True\n1      0.59    45    36   True\n2      0.42    45    35   True\n3      0.31    45    34   True\n4      0.17    45    32   True\n...     ...   ...   ...    ...\n25543  0.00    49    34  False\n25544  0.00    49    29  False\n25545  0.00    46    32  False\n25546  0.00    48    34  False\n25547  0.00    50    36  False\n\n[25548 rows x 4 columns]",
      "text/html": "<div>\n<style scoped>\n    .dataframe tbody tr th:only-of-type {\n        vertical-align: middle;\n    }\n\n    .dataframe tbody tr th {\n        vertical-align: top;\n    }\n\n    .dataframe thead th {\n        text-align: right;\n    }\n</style>\n<table border=\"1\" class=\"dataframe\">\n  <thead>\n    <tr style=\"text-align: right;\">\n      <th></th>\n      <th>PRCP</th>\n      <th>TMAX</th>\n      <th>TMIN</th>\n      <th>RAIN</th>\n    </tr>\n  </thead>\n  <tbody>\n    <tr>\n      <th>0</th>\n      <td>0.47</td>\n      <td>51</td>\n      <td>42</td>\n      <td>True</td>\n    </tr>\n    <tr>\n      <th>1</th>\n      <td>0.59</td>\n      <td>45</td>\n      <td>36</td>\n      <td>True</td>\n    </tr>\n    <tr>\n      <th>2</th>\n      <td>0.42</td>\n      <td>45</td>\n      <td>35</td>\n      <td>True</td>\n    </tr>\n    <tr>\n      <th>3</th>\n      <td>0.31</td>\n      <td>45</td>\n      <td>34</td>\n      <td>True</td>\n    </tr>\n    <tr>\n      <th>4</th>\n      <td>0.17</td>\n      <td>45</td>\n      <td>32</td>\n      <td>True</td>\n    </tr>\n    <tr>\n      <th>...</th>\n      <td>...</td>\n      <td>...</td>\n      <td>...</td>\n      <td>...</td>\n    </tr>\n    <tr>\n      <th>25543</th>\n      <td>0.00</td>\n      <td>49</td>\n      <td>34</td>\n      <td>False</td>\n    </tr>\n    <tr>\n      <th>25544</th>\n      <td>0.00</td>\n      <td>49</td>\n      <td>29</td>\n      <td>False</td>\n    </tr>\n    <tr>\n      <th>25545</th>\n      <td>0.00</td>\n      <td>46</td>\n      <td>32</td>\n      <td>False</td>\n    </tr>\n    <tr>\n      <th>25546</th>\n      <td>0.00</td>\n      <td>48</td>\n      <td>34</td>\n      <td>False</td>\n    </tr>\n    <tr>\n      <th>25547</th>\n      <td>0.00</td>\n      <td>50</td>\n      <td>36</td>\n      <td>False</td>\n    </tr>\n  </tbody>\n</table>\n<p>25548 rows × 4 columns</p>\n</div>"
     },
     "execution_count": 9,
     "metadata": {},
     "output_type": "execute_result"
    }
   ],
   "source": [
    "#Eliminate possible void values\n",
    "Data = Data[Data['PRCP'] != 'T']\n",
    "Data = Data[Data['TMAX'] != 'T']\n",
    "Data = Data[Data['TMIN'] != 'T']\n",
    "Data = Data[Data['RAIN'] != 'T']\n",
    "Data"
   ],
   "metadata": {
    "collapsed": false,
    "pycharm": {
     "name": "#%%\n"
    }
   }
  },
  {
   "cell_type": "code",
   "execution_count": 10,
   "outputs": [
    {
     "data": {
      "text/plain": "       PRCP  TMAX  TMIN  RAIN\n0      0.47  51.0  42.0   1.0\n1      0.59  45.0  36.0   1.0\n2      0.42  45.0  35.0   1.0\n3      0.31  45.0  34.0   1.0\n4      0.17  45.0  32.0   1.0\n...     ...   ...   ...   ...\n25543  0.00  49.0  34.0   0.0\n25544  0.00  49.0  29.0   0.0\n25545  0.00  46.0  32.0   0.0\n25546  0.00  48.0  34.0   0.0\n25547  0.00  50.0  36.0   0.0\n\n[25548 rows x 4 columns]",
      "text/html": "<div>\n<style scoped>\n    .dataframe tbody tr th:only-of-type {\n        vertical-align: middle;\n    }\n\n    .dataframe tbody tr th {\n        vertical-align: top;\n    }\n\n    .dataframe thead th {\n        text-align: right;\n    }\n</style>\n<table border=\"1\" class=\"dataframe\">\n  <thead>\n    <tr style=\"text-align: right;\">\n      <th></th>\n      <th>PRCP</th>\n      <th>TMAX</th>\n      <th>TMIN</th>\n      <th>RAIN</th>\n    </tr>\n  </thead>\n  <tbody>\n    <tr>\n      <th>0</th>\n      <td>0.47</td>\n      <td>51.0</td>\n      <td>42.0</td>\n      <td>1.0</td>\n    </tr>\n    <tr>\n      <th>1</th>\n      <td>0.59</td>\n      <td>45.0</td>\n      <td>36.0</td>\n      <td>1.0</td>\n    </tr>\n    <tr>\n      <th>2</th>\n      <td>0.42</td>\n      <td>45.0</td>\n      <td>35.0</td>\n      <td>1.0</td>\n    </tr>\n    <tr>\n      <th>3</th>\n      <td>0.31</td>\n      <td>45.0</td>\n      <td>34.0</td>\n      <td>1.0</td>\n    </tr>\n    <tr>\n      <th>4</th>\n      <td>0.17</td>\n      <td>45.0</td>\n      <td>32.0</td>\n      <td>1.0</td>\n    </tr>\n    <tr>\n      <th>...</th>\n      <td>...</td>\n      <td>...</td>\n      <td>...</td>\n      <td>...</td>\n    </tr>\n    <tr>\n      <th>25543</th>\n      <td>0.00</td>\n      <td>49.0</td>\n      <td>34.0</td>\n      <td>0.0</td>\n    </tr>\n    <tr>\n      <th>25544</th>\n      <td>0.00</td>\n      <td>49.0</td>\n      <td>29.0</td>\n      <td>0.0</td>\n    </tr>\n    <tr>\n      <th>25545</th>\n      <td>0.00</td>\n      <td>46.0</td>\n      <td>32.0</td>\n      <td>0.0</td>\n    </tr>\n    <tr>\n      <th>25546</th>\n      <td>0.00</td>\n      <td>48.0</td>\n      <td>34.0</td>\n      <td>0.0</td>\n    </tr>\n    <tr>\n      <th>25547</th>\n      <td>0.00</td>\n      <td>50.0</td>\n      <td>36.0</td>\n      <td>0.0</td>\n    </tr>\n  </tbody>\n</table>\n<p>25548 rows × 4 columns</p>\n</div>"
     },
     "execution_count": 10,
     "metadata": {},
     "output_type": "execute_result"
    }
   ],
   "source": [
    "#Convert the values of PRCP, TMAX, TMIN, and RAIN to float\n",
    "Data['PRCP'] = Data['PRCP'].astype(float)\n",
    "Data['TMAX'] = Data['TMAX'].astype(float)\n",
    "Data['TMIN'] = Data['TMIN'].astype(float)\n",
    "Data['RAIN'] = Data['RAIN'].astype(float)\n",
    "Data"
   ],
   "metadata": {
    "collapsed": false,
    "pycharm": {
     "name": "#%%\n"
    }
   }
  },
  {
   "cell_type": "code",
   "execution_count": 11,
   "outputs": [],
   "source": [
    "#Create the tensor\n",
    "Data = torch.tensor(Data.values)"
   ],
   "metadata": {
    "collapsed": false,
    "pycharm": {
     "name": "#%%\n"
    }
   }
  },
  {
   "cell_type": "code",
   "execution_count": 11,
   "outputs": [],
   "source": [],
   "metadata": {
    "collapsed": false,
    "pycharm": {
     "name": "#%%\n"
    }
   }
  },
  {
   "cell_type": "code",
   "execution_count": 12,
   "outputs": [],
   "source": [
    "#Split the tensor into training and testing\n",
    "Train = Data[:int(0.8*len(Data))]\n",
    "Test = Data[int(0.8*len(Data)):]"
   ],
   "metadata": {
    "collapsed": false,
    "pycharm": {
     "name": "#%%\n"
    }
   }
  },
  {
   "cell_type": "code",
   "execution_count": null,
   "outputs": [],
   "source": [],
   "metadata": {
    "collapsed": false,
    "pycharm": {
     "name": "#%%\n"
    }
   }
  },
  {
   "cell_type": "code",
   "execution_count": 13,
   "outputs": [],
   "source": [
    "#Create the training and testing dataloaders\n",
    "Train_loader = DataLoader(Train, batch_size=32, shuffle=True)\n",
    "Test_loader = DataLoader(Test, batch_size=32, shuffle=True)"
   ],
   "metadata": {
    "collapsed": false,
    "pycharm": {
     "name": "#%%\n"
    }
   }
  },
  {
   "cell_type": "code",
   "execution_count": null,
   "outputs": [],
   "source": [],
   "metadata": {
    "collapsed": false,
    "pycharm": {
     "name": "#%%\n"
    }
   }
  },
  {
   "cell_type": "code",
   "execution_count": 14,
   "outputs": [],
   "source": [
    "#Create the model\n",
    "class Predictor(nn.Module):\n",
    "    def __init__(self):\n",
    "        super(Predictor, self).__init__()\n",
    "        self.l1=nn.Linear(4, 4)\n",
    "        self.l2=nn.Linear(4, 4)\n",
    "        self.l3=nn.Linear(4, 1)\n",
    "        self.do=nn.Dropout(0.1)\n",
    "    def forward(self, x):\n",
    "        h1 = nn.functional.relu(self.l1(x))\n",
    "        h2 = nn.functional.relu(self.l2(h1))\n",
    "        do = self.do(h2+h1)\n",
    "        logits = self.l3(do)\n",
    "        return logits"
   ],
   "metadata": {
    "collapsed": false,
    "pycharm": {
     "name": "#%%\n"
    }
   }
  },
  {
   "cell_type": "code",
   "execution_count": 15,
   "outputs": [],
   "source": [
    "Model = Predictor().cuda()"
   ],
   "metadata": {
    "collapsed": false,
    "pycharm": {
     "name": "#%%\n"
    }
   }
  },
  {
   "cell_type": "code",
   "execution_count": 16,
   "outputs": [],
   "source": [
    "#Define cost and optimizer\n",
    "Parameters = Model.parameters()\n",
    "Optimizer = torch.optim.SGD(Parameters, lr=0.001)\n",
    "Loss = nn.CrossEntropyLoss()"
   ],
   "metadata": {
    "collapsed": false,
    "pycharm": {
     "name": "#%%\n"
    }
   }
  },
  {
   "cell_type": "markdown",
   "source": [
    "# **5. Resultados**"
   ],
   "metadata": {
    "collapsed": false,
    "pycharm": {
     "name": "#%% md\n"
    }
   }
  },
  {
   "cell_type": "markdown",
   "source": [
    "# **6. Discusión**\n",
    "Underfitting, overfitting, o no y el porqué\n",
    "Comparación de su metodología con literatura asociada"
   ],
   "metadata": {
    "collapsed": false,
    "pycharm": {
     "name": "#%% md\n"
    }
   }
  },
  {
   "cell_type": "markdown",
   "source": [
    "# **7. Conclusiones**\n",
    "(100-300 palabras)."
   ],
   "metadata": {
    "id": "8Gb2ac0VSryX",
    "pycharm": {
     "name": "#%% md\n"
    }
   }
  },
  {
   "cell_type": "markdown",
   "source": [
    "# **8. Referencias**\n",
    "\n",
    "[1] Pb, V. (2020, February 18). Perceptron. Kaggle. Retrieved June 1, 2022, from https://www.kaggle.com/code/prashfio/perceptron/notebook"
   ],
   "metadata": {
    "id": "cxRqAiW5sG_m",
    "pycharm": {
     "name": "#%% md\n"
    }
   }
  }
 ]
}